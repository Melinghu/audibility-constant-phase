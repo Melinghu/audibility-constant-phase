{
 "cells": [
  {
   "cell_type": "markdown",
   "metadata": {},
   "source": [
    "# Pink Noise Filtered Dirac Impulse\n",
    "aka Pink Impulse\n",
    "\n",
    "cf. Juho Liski, Aki Mäkivirta, Vesa Välimäki (2018): \"Audibility of Loudspeaker Group-Delay Characteristics.\", In *Proc. of 144th Audio Eng. Soc. Conv.*, Milano, #10008"
   ]
  },
  {
   "cell_type": "code",
   "execution_count": null,
   "metadata": {},
   "outputs": [],
   "source": [
    "import numpy as np\n",
    "import matplotlib.pyplot as plt\n",
    "from scipy import signal\n",
    "import soundfile as sf"
   ]
  },
  {
   "cell_type": "code",
   "execution_count": null,
   "metadata": {},
   "outputs": [],
   "source": [
    "N = int(2**14+1)  # DFT length\n",
    "kaiserbeta = 8.17\n",
    "kaiserM = 4401 #4401 # final length of pink noise shaped impulse\n",
    "\n",
    "k = np.arange(0,kaiserM)+N//2-kaiserM//2\n",
    "w = signal.kaiser(kaiserM, kaiserbeta, sym=True)\n",
    "W = np.arange(0, 2*np.pi, 2*np.pi/N)\n",
    "print(W.shape)\n",
    "\n",
    "phase = 0*np.pi/4\n",
    "\n",
    "if True:  # PN_Lowpass\n",
    "    H = (1/np.sqrt(np.abs(W))*1+0) * np.exp(1j*phase)\n",
    "else:  # PN_Highass\n",
    "    H = (np.sqrt(np.abs(W))*1+0) * np.exp(1j*phase)\n",
    "\n",
    "H[0] = H[1]\n",
    "if np.mod(N,2)==0:\n",
    "    H[N//2+1:] = np.conjugate(np.flip(H[1:N//2]))\n",
    "else:\n",
    "    H[(N-1)//2+1:] = np.conjugate(np.flip(H[1:(N-1)//2+1])) \n",
    "\n",
    "plt.subplot(2,1,1)    \n",
    "plt.plot(W,20*np.log10(np.abs(H)))\n",
    "plt.grid(True)\n",
    "plt.ylabel('H / dB')\n",
    "plt.subplot(2,1,2)    \n",
    "plt.plot(W,np.angle(H)*180/np.pi)\n",
    "plt.grid(True)\n",
    "plt.xlabel(r'$\\Omega$');\n",
    "plt.ylabel('arg(H) / rad')\n",
    "plt.xlabel(r'$\\Omega / rad$')\n",
    "plt.ylim(-200,200)\n",
    "plt.yticks(np.arange(-180,225,45));"
   ]
  },
  {
   "cell_type": "code",
   "execution_count": null,
   "metadata": {},
   "outputs": [],
   "source": [
    "h = np.fft.ifft(H)\n",
    "print('max imag in h:', np.max(np.abs(h.imag)))\n",
    "h = np.roll(h.real,N//2)\n",
    "h = h/np.max(np.abs(h))\n",
    "hw = h[N//2-kaiserM//2:N//2+kaiserM//2+1] * w\n",
    "\n",
    "plt.subplot(2,1,1)\n",
    "plt.plot(20*np.log10(np.abs(h)), label='long rect win')\n",
    "plt.plot(k,20*np.log10(np.abs(hw)), label='short kaiser win')\n",
    "plt.grid(True)\n",
    "plt.ylim(-200,0)\n",
    "plt.ylabel('h[k] / dB')\n",
    "\n",
    "plt.subplot(2,1,2)\n",
    "plt.plot(k,h[N//2-kaiserM//2:N//2+kaiserM//2+1], label='long rect win')\n",
    "plt.plot(k,hw, label='short kaiser win')\n",
    "plt.grid(True)\n",
    "plt.ylim(-1.1,1.1)\n",
    "plt.xlabel('k')\n",
    "plt.ylabel('h[k]');"
   ]
  },
  {
   "cell_type": "code",
   "execution_count": null,
   "metadata": {},
   "outputs": [],
   "source": [
    "wav = np.column_stack((h, h))\n",
    "wav = np.column_stack((hw, hw))\n",
    "wav.shape\n",
    "sf.write('../data/source-signals/PNDirac.wav', wav, 44100)"
   ]
  }
 ],
 "metadata": {
  "kernelspec": {
   "display_name": "Python 3",
   "language": "python",
   "name": "python3"
  },
  "language_info": {
   "codemirror_mode": {
    "name": "ipython",
    "version": 3
   },
   "file_extension": ".py",
   "mimetype": "text/x-python",
   "name": "python",
   "nbconvert_exporter": "python",
   "pygments_lexer": "ipython3",
   "version": "3.7.2"
  }
 },
 "nbformat": 4,
 "nbformat_minor": 2
}
