{
 "cells": [
  {
   "cell_type": "code",
   "execution_count": null,
   "metadata": {},
   "outputs": [],
   "source": [
    "import numpy as np\n",
    "def get_min_sec(t):\n",
    "    tmp = t/60\n",
    "    minutes = int(tmp)\n",
    "    if minutes == 0:\n",
    "        seconds = t\n",
    "    else:\n",
    "        seconds = np.mod(tmp,minutes) * 60\n",
    "    return str(minutes)+':'+str(seconds)\n",
    "\n",
    "def get_filter_order(s1, s2, s3):  # start sample index s1, stop sample index s2\n",
    "    #TBD: make sure that FIR length does not exceed length of song\n",
    "    M = s2 - s1  # audio length in samples\n",
    "    \n",
    "    if (s1 + M/2) > s3/2:\n",
    "        N = 2*(s3 - s2 - M/2)\n",
    "    else:\n",
    "        N = 2*(0 + s1 + M/2)\n",
    "    FIR = N - M\n",
    "    if np.mod(FIR,2) == 0:\n",
    "        FIR = FIR - 1  # ensure odd FIR length to have exact sample symmetry point/axis\n",
    "    filter_order = FIR - 1\n",
    "    half_length = filter_order // 2  # true half length would have additional 0.5 samples\n",
    "    print('start', get_min_sec(s1/44100), 'min:sec, stop', get_min_sec(s2/44100), 'min:sec')\n",
    "    print('max allowed FIR order = 2 ^',np.log10(filter_order / 2)/np.log10(2), 'samples')\n",
    "    print('max allowed FIR order = ',filter_order, 'samples')\n",
    "    print('max allowed FIR order =', filter_order/44100, 's')\n",
    "    print('max allowed half length = 2 ^', np.log10(half_length / 2)/np.log10(2), 'samples')\n",
    "    print('max allowed half length = ', half_length, 'samples')\n",
    "    return filter_order"
   ]
  },
  {
   "cell_type": "code",
   "execution_count": null,
   "metadata": {},
   "outputs": [],
   "source": [
    "# Hotel California, Hell Freezes Over, Eagles, 1994 \n",
    "# Reaper Marker:\n",
    "# MARKER 1 44.93800859787061 \n",
    "# MARKER 2 48.14239768250818\n",
    "# MARKER 3 93.080407\n",
    "s1 = 1981766  # start sample for ABX stimulus\n",
    "s2 = 2123080  # stop sample for ABX stimulus\n",
    "s3 = 18215767 # approx last sample\n",
    "filter_order = get_filter_order(s1, s2, s3)"
   ]
  },
  {
   "cell_type": "code",
   "execution_count": null,
   "metadata": {},
   "outputs": [],
   "source": [
    "# Tiesto & DallasK, Show Me (Original Mix), 2015\n",
    "s1 = 4630950  # start sample for ABX stimulus\n",
    "s2 = 4713552  # stop sample for ABX stimulus\n",
    "s3 = 11653759 # approx last sample\n",
    "filter_order = get_filter_order(s1, s2, s3)"
   ]
  },
  {
   "cell_type": "code",
   "execution_count": null,
   "metadata": {},
   "outputs": [],
   "source": [
    "# AutoErotique, Asphyxiation, 2013\n",
    "s1 = 1734705\n",
    "s2 = 1817408\n",
    "s3 = 12398460\n",
    "filter_order = get_filter_order(s1, s2, s3)"
   ]
  },
  {
   "cell_type": "code",
   "execution_count": null,
   "metadata": {},
   "outputs": [],
   "source": [
    "# Knife Party, 404, 2014\n",
    "s1 = 10789628\n",
    "s2 = 10893326\n",
    "s3 = 13173121\n",
    "filter_order = get_filter_order(s1, s2, s3)"
   ]
  }
 ],
 "metadata": {
  "kernelspec": {
   "display_name": "Python 3",
   "language": "python",
   "name": "python3"
  },
  "language_info": {
   "codemirror_mode": {
    "name": "ipython",
    "version": 3
   },
   "file_extension": ".py",
   "mimetype": "text/x-python",
   "name": "python",
   "nbconvert_exporter": "python",
   "pygments_lexer": "ipython3",
   "version": "3.7.2"
  }
 },
 "nbformat": 4,
 "nbformat_minor": 2
}
