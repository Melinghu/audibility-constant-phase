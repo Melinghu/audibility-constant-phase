{
 "cells": [
  {
   "cell_type": "markdown",
   "metadata": {},
   "source": [
    "# Generate Lowpass Filtered Pink Noise\n",
    "\n",
    "with the Voss-McCartney algorithm\n",
    "using implementation of \n",
    "\n",
    "https://github.com/AllenDowney/ThinkDSP/blob/master/code/voss.ipynb\n",
    "\n",
    "see also\n",
    "\n",
    "http://www.firstpr.com.au/dsp/pink-noise/"
   ]
  },
  {
   "cell_type": "code",
   "execution_count": 1,
   "metadata": {},
   "outputs": [],
   "source": [
    "import numpy as np\n",
    "import soundfile as sf\n",
    "import util\n",
    "from scipy.signal import fftconvolve as conv, butter, lfilter"
   ]
  },
  {
   "cell_type": "code",
   "execution_count": 2,
   "metadata": {},
   "outputs": [],
   "source": [
    "fs = 44100  # Hz\n",
    "t = 6*60  # s\n",
    "lpf_order = 4\n",
    "f_cutoff = 300  # Hz\n",
    "\n",
    "np.random.seed(1024)\n",
    "src_dir = '../data/source-signals'\n",
    "suffix = '.wav'\n",
    "\n",
    "b, a = butter(lpf_order, Wn=f_cutoff, btype='lowpass', fs=fs)\n",
    "pn = util.pink_noise(int(t*fs))\n",
    "pn = pn - np.mean(pn)\n",
    "pn = lfilter(b, a, pn)\n",
    "pn = pn - np.mean(pn)\n",
    "pn = pn / np.max(np.abs(pn)) * 0.25  # peak -12 dB\n",
    "sf.write(src_dir+'/pnoise_voss_full'+suffix,pn,fs, subtype='PCM_24')"
   ]
  },
  {
   "cell_type": "markdown",
   "metadata": {},
   "source": [
    "## Pink Noise for ABX Training and SPL Metering with Ear Coupler"
   ]
  },
  {
   "cell_type": "code",
   "execution_count": 3,
   "metadata": {},
   "outputs": [
    {
     "name": "stdout",
     "output_type": "stream",
     "text": [
      "sample peak =  -12.041199826559248 dB\n",
      "true peak =  -11.648264978425868 dB\n",
      "RMS =  -25.148887818972923 dB\n",
      "loudness =  -26.889581769829274 LUFS (R128, ITU BS.1770/4)\n",
      "crest factor =  13.500134135814019 dB\n"
     ]
    }
   ],
   "source": [
    "fs = 44100\n",
    "fade_in, fade_out = 32, 32\n",
    "t = 3  # s\n",
    "np.random.seed(1024)\n",
    "src_dir = '../abx_software/webMUSHRA_c929877_20180814/configs/resources/stimuli'\n",
    "suffix = '.wav'\n",
    "x = util.pink_noise(int(t*fs))\n",
    "x = x - np.mean(x)\n",
    "x = x / np.max(np.abs(x)) * 0.25  # peak -12 dB\n",
    "x1 = util.fade(x, fade_in, fade_out)\n",
    "sf.write(src_dir+'/pnoise_ref'+suffix,np.column_stack((x1, x1)),fs, subtype='PCM_24')\n",
    "sf.write(src_dir+'/pnoise_ref_mono'+suffix,x1,fs, subtype='PCM_24')\n",
    "# signal statistics, these results are comparable with the TBProAudio dpMeter3 plugin\n",
    "print('sample peak = ', 20*np.log10(np.max(np.abs(x))), 'dB')\n",
    "print('true peak = ', 20*np.log10(np.max(np.abs(util.resample(x, 16 * len(x))))), 'dB')\n",
    "print('RMS = ', 10*np.log10(np.mean(x1**2)),'dB')\n",
    "print('loudness = ', util.get_LUFS_Stereo(x1,fs, mono_gated=False), 'LUFS (R128, ITU BS.1770/4)')\n",
    "print('crest factor = ', 20*np.log10(util.crest_factor(x, oversample=16)), 'dB')\n",
    "x1 = util.fade(x*10**(-1/20), fade_in, fade_out)  # lower level \n",
    "sf.write(src_dir+'/pnoise_treat'+suffix,np.column_stack((x1, x1)),fs, subtype='PCM_24')"
   ]
  }
 ],
 "metadata": {
  "kernelspec": {
   "display_name": "Python 3",
   "language": "python",
   "name": "python3"
  },
  "language_info": {
   "codemirror_mode": {
    "name": "ipython",
    "version": 3
   },
   "file_extension": ".py",
   "mimetype": "text/x-python",
   "name": "python",
   "nbconvert_exporter": "python",
   "pygments_lexer": "ipython3",
   "version": "3.7.2"
  }
 },
 "nbformat": 4,
 "nbformat_minor": 2
}
