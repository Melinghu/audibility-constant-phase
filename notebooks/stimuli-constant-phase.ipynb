{
 "cells": [
  {
   "cell_type": "markdown",
   "metadata": {},
   "source": [
    "# Making Audio Signals with Constant Phase Shifts"
   ]
  },
  {
   "cell_type": "code",
   "execution_count": null,
   "metadata": {},
   "outputs": [],
   "source": [
    "import numpy as np\n",
    "import soundfile as sf\n",
    "import matplotlib.pyplot as plt\n",
    "import util\n",
    "from os.path import join\n",
    "from scipy.signal import fftconvolve as conv, kaiser, freqz, hann, butter, lfilter\n",
    "%matplotlib inline\n",
    "\n",
    "import importlib\n",
    "importlib.reload(util)"
   ]
  },
  {
   "cell_type": "markdown",
   "metadata": {},
   "source": [
    "## Constant Phase Shifters\n",
    "\n",
    "* Frequency independent phase shift: $\\phi = -180^\\circ,(15^\\circ),180^\\circ$\n",
    "* Sampling rate: 44.1 kHz\n",
    "* Filter order (length): 4096 (8193)\n",
    "* Blackman window (`scipy.signal.kaiser` with `beta=8.6`)"
   ]
  },
  {
   "cell_type": "code",
   "execution_count": null,
   "metadata": {},
   "outputs": [],
   "source": [
    "fs = 44100\n",
    "reference_phase = 0\n",
    "phimin, phimax, dphi = -180, 180, 15\n",
    "phase_angles_deg = np.arange(phimin, phimax + dphi, dphi)\n",
    "phase_angles = np.pi / 180 * phase_angles_deg\n",
    "filter_order = 2**16\n",
    "half_length = filter_order / 2\n",
    "group_delay = half_length / fs\n",
    "beta = 8.6\n",
    "\n",
    "_, href = util.constant_phase_shifter(filter_order, reference_phase, beta=beta)\n",
    "phase_shifters = [util.constant_phase_shifter(filter_order, phi, beta=beta)[1]\n",
    "                  for phi in phase_angles]"
   ]
  },
  {
   "cell_type": "markdown",
   "metadata": {},
   "source": [
    "### Frequency Responses"
   ]
  },
  {
   "cell_type": "code",
   "execution_count": null,
   "metadata": {},
   "outputs": [],
   "source": [
    "from matplotlib import cm\n",
    "colors = cm.viridis.colors\n",
    "viridis = cm.get_cmap('viridis', len(phase_angles)).colors\n",
    "\n",
    "fmin, fmax, fnum = 0.1, fs / 2, 500\n",
    "f = np.logspace(np.log10(fmin), np.log10(fmax), num=fnum)\n",
    "omega = 2 * np.pi * f\n",
    "\n",
    "fig, axes = plt.subplots(figsize=(10, 10), ncols=2, gridspec_kw={'wspace':0.05})\n",
    "voffset = 5\n",
    "\n",
    "for i, (phi, h) in enumerate(zip(phase_angles_deg, phase_shifters)):\n",
    "    _, H = freqz(h, 1, f, fs=fs)\n",
    "    H *= np.exp(1j * omega * group_delay)\n",
    "    axes[0].semilogx(f, util.db(H) -i * voffset, c=viridis[i], alpha=0.75)\n",
    "    axes[1].semilogx(f, np.unwrap(np.angle(H)) / np.pi, c=viridis[i], alpha=0.75)\n",
    "    axes[0].text(1000, -i * voffset, '{:0.0f}'.format(phi))\n",
    "axes[0].set_ylim(-voffset * len(phase_angles), 3)\n",
    "axes[0].set_ylabel('$|H(\\omega)|$ / dB')\n",
    "axes[0].set_title('Magnitude')\n",
    "axes[1].yaxis.tick_right()\n",
    "axes[1].yaxis.set_label_position(\"right\")\n",
    "axes[1].set_ylim(-1.1, 1.1)\n",
    "axes[1].set_ylabel(r'$\\angle H(\\omega)$ $/\\pi$')\n",
    "axes[1].set_title('Phase')\n",
    "\n",
    "for ax in axes:\n",
    "    ax.set_xlim(fmin, fmax)\n",
    "    ax.set_xlabel('$f$ / Hz')\n",
    "    ax.grid()"
   ]
  },
  {
   "cell_type": "markdown",
   "metadata": {},
   "source": [
    "Note the deviations in magnitude and phase responses for $\\varphi \\neq 0, \\pi$.\n",
    "The distortion in the magnitude spectrum is most pronounced for $\\varphi = \\pm\\frac{\\pi}{2}$,\n",
    "whereas the phase distortion exhibits a slightly different dependency.\n",
    "At $\\omega = 0$, the phase tends to 0 for $\\varphi \\in (-\\frac{\\pi}{2}, \\frac{\\pi}{2})$,\n",
    "and $\\pi$ for $\\varphi \\in (-\\pi, -\\frac{\\pi}{2}) \\cup (\\frac{\\pi}{2}, \\pi)$.\n",
    "The phase responses are accurate for $\\varphi=0, \\pm\\frac{\\pi}{2}, \\pi$\n",
    "throughout the entire frequency range."
   ]
  },
  {
   "cell_type": "markdown",
   "metadata": {},
   "source": [
    "### Audibility of Low Frequency Attenuation\n",
    "\n",
    "For a practical implementation of constant phase shifter,\n",
    "the impulse response have to be truncated to a finite length\n",
    "and possibly be windowed in order to smooth out the spectral fluctuations\n",
    "(whether it improves the perceptual quality is unclear though).\n",
    "As demonstrated above, there is a trade off between\n",
    "the length of the FIR coefficients and the spectral distortion\n",
    "around the base band and the Nyquist frequency.\n",
    "Therefore, it is of interest to what extent\n",
    "the magnitude distortion is audible for varying FIR lengths.\n",
    "\n",
    "In order to examine the perceptual influence of the truncation,\n",
    "constant phase shifters of different lengths are built,\n",
    "\n",
    "$$N = 2^{\\{4,\\ldots,20\\}}.$$\n",
    "\n",
    "The FIR filters are then applied to a selected input signal.\n",
    "\n",
    "Considering the frequency dependent sensitivity\n",
    "and resolution of human hearing ability,\n",
    "the low frequency distortion is likely to be detected more easily.\n",
    "Moreover, frequency components around the Nyquist frequency\n",
    "have less practical relevance.\n",
    "The audibility of the low frequency distortions is thus\n",
    "of primary interest in designing FIR constant phase shifters.\n",
    "\n",
    "In the following example, a pink noise train is used as the stimulus.\n",
    "\n",
    "The phase angle of $\\varphi=\\frac{\\pi}{2}$ is chosen\n",
    "which is the worst case scenario in terms of magnitude distortion.\n",
    "Since no phase distortion occurs for this phase angle,\n",
    "it is suited to examine only the influence\n",
    "of the attenuation of the magnitude spectrum."
   ]
  },
  {
   "cell_type": "code",
   "execution_count": null,
   "metadata": {},
   "outputs": [],
   "source": [
    "# Pulse train of raised cosine pink noise\n",
    "\n",
    "fs = 44100\n",
    "repetitions = 3\n",
    "pulse_length = 500  # in milliseconds\n",
    "silence = 100, 50, 100  # pre-, inter-, post-\n",
    "pink_train = util.pink_train(pulse_length, repetitions, silence, fs)\n",
    "t = np.arange(len(pink_train)) / fs * 1000\n",
    "\n",
    "# Optional low-pass filtering\n",
    "# b, a = butter(4, 0.1)\n",
    "# pink_train = lfilter(b, a, pink_train)\n",
    "# pink_train *= 0.9 / np.max(np.abs(pink_train))\n",
    "\n",
    "plt.plot(t, pink_train)\n",
    "plt.xlabel('$t$ / ms')\n",
    "plt.grid()"
   ]
  },
  {
   "cell_type": "code",
   "execution_count": null,
   "metadata": {},
   "outputs": [],
   "source": [
    "out_dir = '../data/stimuli'\n",
    "# out_dir = '../abx_software/webMUSHRA_c929877_20180814/configs/resources/stimuli'\n",
    "suffix = '.wav'\n",
    "\n",
    "filter_order_exponents = np.arange(4, 21)  # {2^4, ..., 2^20}\n",
    "beta = 8.6\n",
    "phase_angle = np.pi / 2\n",
    "fade_in, fade_out = 100, 100\n",
    "\n",
    "for m in filter_order_exponents:\n",
    "    filter_order = 2**m\n",
    "    half_length = int(filter_order / 2)\n",
    "    h = util.constant_phase_shifter(filter_order, phase_angle, beta=beta)[1]\n",
    "    y = conv(pink_train, h)[half_length:-half_length]\n",
    "    y = util.fade(y, fade_in, fade_out, 'h')\n",
    "    data_name = 'pink_train_phi{:0.0f}_m{:.0f}'.format(np.rad2deg(phase_angle), m)\n",
    "    if (np.abs(y) > 1).any():\n",
    "        print('Warning: The amplitude ({:0.2f}) exceeds 1 in {}'\n",
    "              .format(np.max(np.abs(y)), data_name))\n",
    "    sf.write(join(out_dir, data_name + suffix), y, fs ,subtype='PCM_24')"
   ]
  },
  {
   "cell_type": "markdown",
   "metadata": {},
   "source": [
    "### Recursive High Pass Filter\n",
    "\n",
    "One possible way to avoid any unwanted effects\n",
    "by the low frequency deviations is to high pass filter the stimuli."
   ]
  },
  {
   "cell_type": "code",
   "execution_count": null,
   "metadata": {},
   "outputs": [],
   "source": [
    "hpf_order = 2\n",
    "f_cutoff = 12.5\n",
    "b, a = butter(hpf_order, Wn=f_cutoff, btype='high', fs=fs)\n",
    "_, H_hpf = freqz(b, a, worN=f, fs=fs)\n",
    "\n",
    "plt.figure()\n",
    "plt.semilogx(f, util.db(H_hpf))\n",
    "plt.plot(f_cutoff, 0, 'v')\n",
    "plt.xlabel('$f$ / Hz')\n",
    "plt.ylabel('Magnitude / dB')\n",
    "plt.grid()"
   ]
  },
  {
   "cell_type": "markdown",
   "metadata": {},
   "source": [
    "### Linear Phase High Pass Filter\n",
    "\n",
    "Alternatively, the reference stimuli (zero phase shift)\n",
    "can be equalized with a linear phase FIR filter\n",
    "which exhibits the same magnitude response\n",
    "as the constant phase shifter."
   ]
  },
  {
   "cell_type": "code",
   "execution_count": null,
   "metadata": {},
   "outputs": [],
   "source": [
    "filter_order = 2**6\n",
    "filter_length = filter_order + 1\n",
    "half_length = int(filter_order / 2)\n",
    "phase_angle = -np.pi / 2\n",
    "_, h = util.constant_phase_shifter(filter_order, phase_angle, beta=beta)\n",
    "\n",
    "nfft = filter_length\n",
    "\n",
    "dc_offset = 0 / nfft\n",
    "\n",
    "h_eq = np.fft.irfft(np.abs(np.fft.rfft(h, n=nfft)), n=nfft)\n",
    "h_eq = np.roll(h_eq, half_length)\n",
    "\n",
    "h -= dc_offset\n",
    "h_eq -= dc_offset\n",
    "\n",
    "fmin, fmax, fnum = 0.1, fs / 2, 5000\n",
    "f = np.logspace(np.log10(fmin), np.log10(fmax), num=fnum)\n",
    "_, H = freqz(h, 1, worN=f, fs=fs)\n",
    "_, H_eq = freqz(h_eq, 1, worN=f, fs=fs)\n",
    "\n",
    "f_dft = fs * np.arange(half_length + 1) / nfft\n",
    "H_dft = np.fft.rfft(h)\n",
    "H_dft_eq = np.fft.rfft(h_eq)\n",
    "\n",
    "fig, ax = plt.subplots(figsize=(15, 6), ncols=2)\n",
    "\n",
    "ax[0].plot(h, label='Phase shifter')\n",
    "ax[0].plot(h_eq, label='Equalizer')\n",
    "ax[0].legend()\n",
    "ax[0].grid()\n",
    "\n",
    "# ax[1].semilogx(f, util.db(H), 'b')\n",
    "# ax[1].semilogx(f, util.db(H_eq), 'r')\n",
    "# ax[1].semilogx(f_dft, util.db(H_dft), 'bo')\n",
    "# ax[1].semilogx(f_dft, util.db(H_dft_eq), 'rx')\n",
    "ax[1].plot(f, util.db(H), 'b')\n",
    "ax[1].plot(f, util.db(H_eq), 'r')\n",
    "ax[1].plot(f_dft, util.db(H_dft), ls='none', marker='o', mfc='none', mec='b')\n",
    "ax[1].plot(f_dft, util.db(H_dft_eq), 'rx')\n",
    "ax[1].set_xlabel('$f$ / Hz')\n",
    "ax[1].set_ylabel('Magnitude / dB')\n",
    "ax[1].set_xlim(1, 3000)\n",
    "# ax[1].set_ylim(-100)\n",
    "ax[1].grid()"
   ]
  },
  {
   "cell_type": "markdown",
   "metadata": {},
   "source": [
    "## Make Stimuli\n",
    "\n",
    "* Source signals ([`data/source-signals`](../data/source-signals)): speech, castanets, and pink noise\n",
    "* Phase shifted signals will be saved in [`data/stimuli`](../data/stimuli)\n",
    "* Diotic: phase shift on both signals\n",
    "* Dichotic: phase shift either on left or right signal\n"
   ]
  },
  {
   "cell_type": "code",
   "execution_count": null,
   "metadata": {},
   "outputs": [],
   "source": [
    "src_dir = '../data/source-signals'\n",
    "out_dir = '../data/stimuli'\n",
    "# out_dir = '../abx_software/webMUSHRA_c929877_20180814/configs/resources/stimuli'\n",
    "suffix = '.wav'\n",
    "file_names = ['castanets']\n",
    "fade_in, fade_out = 32, 32\n",
    "\n",
    "filter_order = 2**21\n",
    "half_length = int(filter_order / 2)\n",
    "href = util.constant_phase_shifter(filter_order, reference_phase, beta=beta)[1]\n",
    "phase_shifters = [util.constant_phase_shifter(filter_order, phi, beta=beta)[1]\n",
    "                  for phi in phase_angles]\n",
    "\n",
    "for fn in file_names:\n",
    "    sig, fs = sf.read(join(src_dir, fn + suffix))\n",
    "#     sig = lfilter(b, a, sig)  # optional HPF\n",
    "    crest_factors = np.zeros_like(phase_angles)\n",
    "    \n",
    "    if fn == 'pink_noise':  # hacked :-(\n",
    "        sig = 10**(-3/20) * sig\n",
    "    \n",
    "    sig_ref = util.fade(conv(sig, href)[half_length:-half_length], fade_in, fade_out)\n",
    "    sf.write(join(out_dir, fn + '_ref' + suffix),\n",
    "             np.column_stack((sig_ref, sig_ref)), fs, subtype='PCM_24')\n",
    "    for i, (phi, h) in enumerate(zip(phase_angles_deg, phase_shifters)):\n",
    "        sig_shift = util.fade(conv(sig, h)[half_length:-half_length], fade_in, fade_out)\n",
    "        crest_factors[i] = util.crest_factor(sig_shift, oversample=4)\n",
    "        \n",
    "        if np.amax(np.abs(sig_shift)) >= 1:\n",
    "            print('sig_shift will clip at:', fn, phi, 'simple peak=', np.amax(np.abs(sig_shift)))\n",
    "\n",
    "        sf.write(join(out_dir, fn + '_phi{}'.format(phi) + suffix),\n",
    "                 np.column_stack((sig_shift, sig_shift)), fs, subtype='PCM_24')\n",
    "    np.savetxt(join(out_dir, fn + '_crestfactor.txt'), np.stack([phase_angles, crest_factors]))"
   ]
  },
  {
   "cell_type": "markdown",
   "metadata": {},
   "source": [
    "The crest factors of the stimuli are saved in the same directory as a text file.\n",
    "It can be loaded as following."
   ]
  },
  {
   "cell_type": "code",
   "execution_count": null,
   "metadata": {},
   "outputs": [],
   "source": [
    "ph, cf = np.loadtxt(join(out_dir, file_names[0] + '_crestfactor.txt'))\n",
    "\n",
    "plt.plot(np.rad2deg(ph), util.db(cf), '-o')\n",
    "plt.xlabel(r'$\\varphi$ / deg')\n",
    "plt.ylabel('Crest Factor / dB')\n",
    "plt.grid()"
   ]
  },
  {
   "cell_type": "markdown",
   "metadata": {},
   "source": [
    "### Audition"
   ]
  },
  {
   "cell_type": "markdown",
   "metadata": {},
   "source": [
    "#### Diotic\n",
    "\n",
    "| $\\phi$ | speech | Castanets | Pink Noise |\n",
    "|:------:|:------:|-----------|:----------:|\n",
    "| Ref. | <audio type=\"audio/wave\" src=\"../data/stimuli/speech_ref.wav\" controls></audio> | <audio type=\"audio/wave\" src=\"../data/stimuli/castanets_ref.wav\" controls></audio> | <audio type=\"audio/wave\" src=\"../data/stimuli/pink_noise_ref.wav\" controls></audio> |\n",
    "| -180 | <audio type=\"audio/wave\" src=\"../data/stimuli/speech_phi-180_diotic.wav\" controls></audio> | <audio type=\"audio/wave\" src=\"../data/stimuli/castanets_phi-180_diotic.wav\" controls></audio> | <audio type=\"audio/wave\" src=\"../data/stimuli/pink_noise_phi-180_diotic.wav\" controls></audio> |\n",
    "| -165 | <audio type=\"audio/wave\" src=\"../data/stimuli/speech_phi-165_diotic.wav\" controls></audio> | <audio type=\"audio/wave\" src=\"../data/stimuli/castanets_phi-165_diotic.wav\" controls></audio> | <audio type=\"audio/wave\" src=\"../data/stimuli/pink_noise_phi-165_diotic.wav\" controls></audio> |\n",
    "| -150 | <audio type=\"audio/wave\" src=\"../data/stimuli/speech_phi-150_diotic.wav\" controls></audio> | <audio type=\"audio/wave\" src=\"../data/stimuli/castanets_phi-150_diotic.wav\" controls></audio> | <audio type=\"audio/wave\" src=\"../data/stimuli/pink_noise_phi-150_diotic.wav\" controls></audio> |\n",
    "| -135 | <audio type=\"audio/wave\" src=\"../data/stimuli/speech_phi-135_diotic.wav\" controls></audio> | <audio type=\"audio/wave\" src=\"../data/stimuli/castanets_phi-135_diotic.wav\" controls></audio> | <audio type=\"audio/wave\" src=\"../data/stimuli/pink_noise_phi-135_diotic.wav\" controls></audio> |\n",
    "| -120 | <audio type=\"audio/wave\" src=\"../data/stimuli/speech_phi-120_diotic.wav\" controls></audio> | <audio type=\"audio/wave\" src=\"../data/stimuli/castanets_phi-120_diotic.wav\" controls></audio> | <audio type=\"audio/wave\" src=\"../data/stimuli/pink_noise_phi-120_diotic.wav\" controls></audio> |\n",
    "| -105 | <audio type=\"audio/wave\" src=\"../data/stimuli/speech_phi-105_diotic.wav\" controls></audio> | <audio type=\"audio/wave\" src=\"../data/stimuli/castanets_phi-105_diotic.wav\" controls></audio> | <audio type=\"audio/wave\" src=\"../data/stimuli/pink_noise_phi-105_diotic.wav\" controls></audio> |\n",
    "| -90 | <audio type=\"audio/wave\" src=\"../data/stimuli/speech_phi-90_diotic.wav\" controls></audio> | <audio type=\"audio/wave\" src=\"../data/stimuli/castanets_phi-90_diotic.wav\" controls></audio> | <audio type=\"audio/wave\" src=\"../data/stimuli/pink_noise_phi-90_diotic.wav\" controls></audio> |\n",
    "| -75 | <audio type=\"audio/wave\" src=\"../data/stimuli/speech_phi-75_diotic.wav\" controls></audio> | <audio type=\"audio/wave\" src=\"../data/stimuli/castanets_phi-75_diotic.wav\" controls></audio> | <audio type=\"audio/wave\" src=\"../data/stimuli/pink_noise_phi-75_diotic.wav\" controls></audio> |\n",
    "| -60 | <audio type=\"audio/wave\" src=\"../data/stimuli/speech_phi-60_diotic.wav\" controls></audio> | <audio type=\"audio/wave\" src=\"../data/stimuli/castanets_phi-60_diotic.wav\" controls></audio> | <audio type=\"audio/wave\" src=\"../data/stimuli/pink_noise_phi-60_diotic.wav\" controls></audio> |\n",
    "| -45 | <audio type=\"audio/wave\" src=\"../data/stimuli/speech_phi-45_diotic.wav\" controls></audio> | <audio type=\"audio/wave\" src=\"../data/stimuli/castanets_phi-45_diotic.wav\" controls></audio> | <audio type=\"audio/wave\" src=\"../data/stimuli/pink_noise_phi-45_diotic.wav\" controls></audio> |\n",
    "| -30 | <audio type=\"audio/wave\" src=\"../data/stimuli/speech_phi-30_diotic.wav\" controls></audio> | <audio type=\"audio/wave\" src=\"../data/stimuli/castanets_phi-30_diotic.wav\" controls></audio> | <audio type=\"audio/wave\" src=\"../data/stimuli/pink_noise_phi-30_diotic.wav\" controls></audio> |\n",
    "| -15 | <audio type=\"audio/wave\" src=\"../data/stimuli/speech_phi-15_diotic.wav\" controls></audio> | <audio type=\"audio/wave\" src=\"../data/stimuli/castanets_phi-15_diotic.wav\" controls></audio> | <audio type=\"audio/wave\" src=\"../data/stimuli/pink_noise_phi-15_diotic.wav\" controls></audio> |\n",
    "| 0 | <audio type=\"audio/wave\" src=\"../data/stimuli/speech_phi0_diotic.wav\" controls></audio> | <audio type=\"audio/wave\" src=\"../data/stimuli/castanets_phi0_diotic.wav\" controls></audio> | <audio type=\"audio/wave\" src=\"../data/stimuli/pink_noise_phi0_diotic.wav\" controls></audio> |\n",
    "| 15 | <audio type=\"audio/wave\" src=\"../data/stimuli/speech_phi15_diotic.wav\" controls></audio> | <audio type=\"audio/wave\" src=\"../data/stimuli/castanets_phi15_diotic.wav\" controls></audio> | <audio type=\"audio/wave\" src=\"../data/stimuli/pink_noise_phi15_diotic.wav\" controls></audio> |\n",
    "| 30 | <audio type=\"audio/wave\" src=\"../data/stimuli/speech_phi30_diotic.wav\" controls></audio> | <audio type=\"audio/wave\" src=\"../data/stimuli/castanets_phi30_diotic.wav\" controls></audio> | <audio type=\"audio/wave\" src=\"../data/stimuli/pink_noise_phi30_diotic.wav\" controls></audio> |\n",
    "| 45 | <audio type=\"audio/wave\" src=\"../data/stimuli/speech_phi45_diotic.wav\" controls></audio> | <audio type=\"audio/wave\" src=\"../data/stimuli/castanets_phi45_diotic.wav\" controls></audio> | <audio type=\"audio/wave\" src=\"../data/stimuli/pink_noise_phi45_diotic.wav\" controls></audio> |\n",
    "| 60 | <audio type=\"audio/wave\" src=\"../data/stimuli/speech_phi60_diotic.wav\" controls></audio> | <audio type=\"audio/wave\" src=\"../data/stimuli/castanets_phi60_diotic.wav\" controls></audio> | <audio type=\"audio/wave\" src=\"../data/stimuli/pink_noise_phi60_diotic.wav\" controls></audio> |\n",
    "| 75 | <audio type=\"audio/wave\" src=\"../data/stimuli/speech_phi75_diotic.wav\" controls></audio> | <audio type=\"audio/wave\" src=\"../data/stimuli/castanets_phi75_diotic.wav\" controls></audio> | <audio type=\"audio/wave\" src=\"../data/stimuli/pink_noise_phi75_diotic.wav\" controls></audio> |\n",
    "| 90 | <audio type=\"audio/wave\" src=\"../data/stimuli/speech_phi90_diotic.wav\" controls></audio> | <audio type=\"audio/wave\" src=\"../data/stimuli/castanets_phi90_diotic.wav\" controls></audio> | <audio type=\"audio/wave\" src=\"../data/stimuli/pink_noise_phi90_diotic.wav\" controls></audio> |\n",
    "| 105 | <audio type=\"audio/wave\" src=\"../data/stimuli/speech_phi105_diotic.wav\" controls></audio> | <audio type=\"audio/wave\" src=\"../data/stimuli/castanets_phi105_diotic.wav\" controls></audio> | <audio type=\"audio/wave\" src=\"../data/stimuli/pink_noise_phi105_diotic.wav\" controls></audio> |\n",
    "| 120 | <audio type=\"audio/wave\" src=\"../data/stimuli/speech_phi120_diotic.wav\" controls></audio> | <audio type=\"audio/wave\" src=\"../data/stimuli/castanets_phi120_diotic.wav\" controls></audio> | <audio type=\"audio/wave\" src=\"../data/stimuli/pink_noise_phi120_diotic.wav\" controls></audio> |\n",
    "| 135 | <audio type=\"audio/wave\" src=\"../data/stimuli/speech_phi135_diotic.wav\" controls></audio> | <audio type=\"audio/wave\" src=\"../data/stimuli/castanets_phi135_diotic.wav\" controls></audio> | <audio type=\"audio/wave\" src=\"../data/stimuli/pink_noise_phi135_diotic.wav\" controls></audio> |\n",
    "| 150 | <audio type=\"audio/wave\" src=\"../data/stimuli/speech_phi150_diotic.wav\" controls></audio> | <audio type=\"audio/wave\" src=\"../data/stimuli/castanets_phi150_diotic.wav\" controls></audio> | <audio type=\"audio/wave\" src=\"../data/stimuli/pink_noise_phi150_diotic.wav\" controls></audio> |\n",
    "| 165 | <audio type=\"audio/wave\" src=\"../data/stimuli/speech_phi165_diotic.wav\" controls></audio> | <audio type=\"audio/wave\" src=\"../data/stimuli/castanets_phi165_diotic.wav\" controls></audio> | <audio type=\"audio/wave\" src=\"../data/stimuli/pink_noise_phi165_diotic.wav\" controls></audio> |\n",
    "| 180 | <audio type=\"audio/wave\" src=\"../data/stimuli/speech_phi180_diotic.wav\" controls></audio> | <audio type=\"audio/wave\" src=\"../data/stimuli/castanets_phi180_diotic.wav\" controls></audio> | <audio type=\"audio/wave\" src=\"../data/stimuli/pink_noise_phi180_diotic.wav\" controls></audio> |"
   ]
  }
 ],
 "metadata": {
  "kernelspec": {
   "display_name": "Python 3",
   "language": "python",
   "name": "python3"
  },
  "language_info": {
   "codemirror_mode": {
    "name": "ipython",
    "version": 3
   },
   "file_extension": ".py",
   "mimetype": "text/x-python",
   "name": "python",
   "nbconvert_exporter": "python",
   "pygments_lexer": "ipython3",
   "version": "3.7.2"
  },
  "varInspector": {
   "cols": {
    "lenName": 16,
    "lenType": 16,
    "lenVar": 40
   },
   "kernels_config": {
    "python": {
     "delete_cmd_postfix": "",
     "delete_cmd_prefix": "del ",
     "library": "var_list.py",
     "varRefreshCmd": "print(var_dic_list())"
    },
    "r": {
     "delete_cmd_postfix": ") ",
     "delete_cmd_prefix": "rm(",
     "library": "var_list.r",
     "varRefreshCmd": "cat(var_dic_list()) "
    }
   },
   "types_to_exclude": [
    "module",
    "function",
    "builtin_function_or_method",
    "instance",
    "_Feature"
   ],
   "window_display": false
  }
 },
 "nbformat": 4,
 "nbformat_minor": 2
}
