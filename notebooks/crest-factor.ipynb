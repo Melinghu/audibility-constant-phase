{
 "cells": [
  {
   "cell_type": "markdown",
   "metadata": {},
   "source": [
    "# Crest Factor vs. Phase Shift"
   ]
  },
  {
   "cell_type": "code",
   "execution_count": null,
   "metadata": {},
   "outputs": [],
   "source": [
    "import numpy as np\n",
    "import matplotlib.pyplot as plt\n",
    "import soundfile as sf\n",
    "import util\n",
    "from scipy.signal import fftconvolve as conv, butter, lfilter\n",
    "from os.path import join\n",
    "from matplotlib import cm\n",
    "colors = cm.viridis.colors"
   ]
  },
  {
   "cell_type": "markdown",
   "metadata": {},
   "source": [
    "## Check Stimuli"
   ]
  },
  {
   "cell_type": "code",
   "execution_count": null,
   "metadata": {},
   "outputs": [],
   "source": [
    "src_dir = '../abx_software/webMUSHRA_c929877_20180814/configs/resources/stimuli'\n",
    "suffix = '.wav'\n",
    "file_names = ['castanets_phi000',\n",
    "              'hotelcalifornia_phi000',\n",
    "              'pnoise_phi000',\n",
    "              'pnoise_ref',\n",
    "              'square_a_phi000',\n",
    "              'square_b_phi000']\n",
    "fade_in, fade_out = 32, 32\n",
    "\n",
    "filter_order = 2**16\n",
    "half_length = int(filter_order / 2)\n",
    "beta = 8.6\n",
    "phase_angles = np.linspace(0, 2 * np.pi, endpoint=False, num=int(360/5))\n",
    "phase_shifters = [util.constant_phase_shifter(filter_order, phi, beta=beta)[1]\n",
    "                  for phi in phase_angles]"
   ]
  },
  {
   "cell_type": "code",
   "execution_count": null,
   "metadata": {},
   "outputs": [],
   "source": [
    "fs = 44100\n",
    "hpf_order = 2\n",
    "f_cutoff = 12.5\n",
    "b, a = butter(hpf_order, Wn=f_cutoff, btype='high', fs=fs)"
   ]
  },
  {
   "cell_type": "code",
   "execution_count": null,
   "metadata": {},
   "outputs": [],
   "source": [
    "C = {}\n",
    "C_hpf = {}\n",
    "for fn in file_names:\n",
    "    sig, fs = sf.read(join(src_dir, fn + suffix))\n",
    "    sig = sig[:,0]\n",
    "    crest_factor = np.zeros_like(phase_angles)\n",
    "    for i, h in enumerate(phase_shifters):\n",
    "        sig_shift = util.fade(conv(sig, h)[half_length:-half_length], fade_in, fade_out)\n",
    "        crest_factor[i] = util.crest_factor(sig_shift, oversample=1)   # oversample=4 takes long time\n",
    "    C[fn] = crest_factor\n",
    "\n",
    "    # HPF\n",
    "    sig = lfilter(b, a, sig)\n",
    "    crest_factor = np.zeros_like(phase_angles)\n",
    "    for i, h in enumerate(phase_shifters):\n",
    "        sig_shift = util.fade(conv(sig, h)[half_length:-half_length], fade_in, fade_out)\n",
    "        crest_factor[i] = util.crest_factor(sig_shift, oversample=1)\n",
    "    C_hpf[fn] = crest_factor"
   ]
  },
  {
   "cell_type": "code",
   "execution_count": null,
   "metadata": {},
   "outputs": [],
   "source": [
    "phase_angles_deg = np.rad2deg(phase_angles)\n",
    "viridis = cm.get_cmap('viridis', len(C)).colors\n",
    "\n",
    "fig, ax = plt.subplots(figsize=(10, 10))\n",
    "for i, fn in enumerate(file_names):\n",
    "    #ax.plot(phase_angles_deg, util.db(C[fn]), label=fn, c=viridis[i])\n",
    "    #ax.plot(phase_angles_deg, util.db(C_hpf[fn]), ls='--', c=viridis[i])\n",
    "    ax.plot(phase_angles_deg, util.db(C[fn]), label=fn, c='C'+str(i))\n",
    "    ax.plot(phase_angles_deg, util.db(C_hpf[fn]), ls='--', c='C'+str(i))    \n",
    "ax.set_xticks(np.arange(0, 360, 30))\n",
    "ax.legend(loc='best')\n",
    "ax.grid();\n",
    "ax.set_xlabel(r'$\\phi$ / deg')\n",
    "ax.set_ylabel(r'Crest Factor / dB')\n",
    "ax.set_title('line: original, dash line: high pass filtered');"
   ]
  }
 ],
 "metadata": {
  "kernelspec": {
   "display_name": "Python 3",
   "language": "python",
   "name": "python3"
  },
  "language_info": {
   "codemirror_mode": {
    "name": "ipython",
    "version": 3
   },
   "file_extension": ".py",
   "mimetype": "text/x-python",
   "name": "python",
   "nbconvert_exporter": "python",
   "pygments_lexer": "ipython3",
   "version": "3.7.2"
  },
  "varInspector": {
   "cols": {
    "lenName": 16,
    "lenType": 16,
    "lenVar": 40
   },
   "kernels_config": {
    "python": {
     "delete_cmd_postfix": "",
     "delete_cmd_prefix": "del ",
     "library": "var_list.py",
     "varRefreshCmd": "print(var_dic_list())"
    },
    "r": {
     "delete_cmd_postfix": ") ",
     "delete_cmd_prefix": "rm(",
     "library": "var_list.r",
     "varRefreshCmd": "cat(var_dic_list()) "
    }
   },
   "types_to_exclude": [
    "module",
    "function",
    "builtin_function_or_method",
    "instance",
    "_Feature"
   ],
   "window_display": false
  }
 },
 "nbformat": 4,
 "nbformat_minor": 2
}
