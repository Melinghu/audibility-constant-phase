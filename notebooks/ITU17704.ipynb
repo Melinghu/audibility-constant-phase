{
 "cells": [
  {
   "cell_type": "markdown",
   "metadata": {},
   "source": [
    "# ITU1770-4 Loudness\n",
    "\n",
    "## Algorithms to measure audio programme loudness and true-peak audio level\n",
    "Recommendation ITU-R BS.1770-4 (10/2015, Electronic Publication, Geneva, 2017)\n",
    "\n",
    "see also:\n",
    "\n",
    "**Loudness normalisation and permitted maximum level of audio signals**\n",
    "EBU R 128-2014, June 2014\n",
    "\n",
    "**Loudness Metering: EBU Mode metering to supplement Loudness normalisation in accordance with EBU R 128**\n",
    "R 128 LOUDNESS NORMALIZATION, TECH 3341 (January 2016)\n",
    " \n",
    "**Note:**\n",
    "No measurement gate is applied in the code below, yet!!! See `get_LUFS_Stereo` in util.py for a version that handles mono audio, this needs re-checked for stereo files."
   ]
  },
  {
   "cell_type": "code",
   "execution_count": null,
   "metadata": {},
   "outputs": [],
   "source": [
    "import matplotlib.pyplot as plt\n",
    "import numpy as np\n",
    "from scipy import signal\n",
    "import soundfile as sf\n",
    "import util"
   ]
  },
  {
   "cell_type": "code",
   "execution_count": null,
   "metadata": {},
   "outputs": [],
   "source": [
    "fs = 44100 \n",
    "\n",
    "def get_dBTruePeak(x):  # x.shape = (channels; samples)\n",
    "    tmp = signal.resample_poly(x/4, up=32*1, down=1*1, axis=-1, window=('kaiser', 5.0))\n",
    "    tmp = tmp[:, int(50/1000*(44100*32))::]  # avoid evaluation of first samples\n",
    "    # where filter needs to settle up\n",
    "    L = 20*np.log10(4*np.max(np.abs(tmp), axis=-1))\n",
    "    return L\n",
    "\n",
    "def get_LUFS_Stereo(x, fs):  # x.shape = (channels 1,2 or 3; samples)\n",
    "    if fs == 48000:\n",
    "        # Pre-Filter @ 48kHz\n",
    "        bPRE = (1.53512485958697, -2.69169618940638, 1.19839281085285)\n",
    "        aPRE = (1, -1.69065929318241, 0.73248077421585)\n",
    "        # RLB-Filter @ 48kHz\n",
    "        bRLB = (1, -2, 1)\n",
    "        aRLB = (1, -1.99004745483398, 0.99007225036621)\n",
    "    elif fs == 44100:  # redesigned by fs446: analog filter fit of the 48 kHz\n",
    "        # filter, then bilinear transform to 44.1kHz\n",
    "        # Pre-Filter @ 44.1kHz\n",
    "        bPRE = (1.53089320672149, -2.65101332422074, 1.16905574510282)\n",
    "        aPRE = (1, -1.66364666025175, 0.712582287855323)\n",
    "        # RLB-Filter @ 44.1kHz\n",
    "        bRLB = (1, -2, 1)\n",
    "        aRLB = (1, -1.98917270016531, 0.989202007770735)\n",
    "    else:\n",
    "        bPRE = (1,0,0)\n",
    "        aPRE = (1,0,0)\n",
    "        bRLB = (1,0,0)\n",
    "        aRLB = (1,0,0)\n",
    "        print('! unknown fs, filter thru !')\n",
    "        \n",
    "    sos = np.array([bPRE, aPRE, bRLB, aRLB])\n",
    "    sos = np.reshape(sos, (2,6))\n",
    "    if False:\n",
    "        [f, H] = signal.sosfreqz(sos[0,:], worN=2**12, whole=False, fs=fs)\n",
    "        plt.semilogx(f,20*np.log10(np.abs(H)), lw=4, label='PRE')\n",
    "        [f, H] = signal.sosfreqz(sos[1,:], worN=2**12, whole=False, fs=fs)\n",
    "        plt.semilogx(f,20*np.log10(np.abs(H)), lw=4, label='RLB')\n",
    "        [f, H] = signal.sosfreqz(sos[:], worN=2**12, whole=False, fs=fs)\n",
    "        plt.semilogx(f,20*np.log10(np.abs(H)), 'k', label='PRE+RLB')\n",
    "        plt.grid(True)\n",
    "        plt.xlabel('f / Hz')\n",
    "        plt.ylabel('A / dB')\n",
    "        plt.legend()    \n",
    "    y = signal.sosfilt(sos, x, axis=-1)\n",
    "    L = -0.691 + 10*np.log10(np.sum(np.var(y, axis=-1)))\n",
    "    return L"
   ]
  },
  {
   "cell_type": "code",
   "execution_count": null,
   "metadata": {},
   "outputs": [],
   "source": [
    "x = np.array([10**(-23/20) * np.sin( 2*np.pi*1000/fs * np.arange(0, 1*fs) ),\n",
    "              10**(-23/20) * np.sin( 2*np.pi*1000/fs * np.arange(0, 1*fs) )])\n",
    "print(x.shape)\n",
    "print('ITU 1770-4 loudness = ', get_LUFS_Stereo(x, fs), 'LUFS')\n",
    "print('ITU 1770-4 true peak = ', get_dBTruePeak(x), 'dBTP')"
   ]
  },
  {
   "cell_type": "code",
   "execution_count": null,
   "metadata": {},
   "outputs": [],
   "source": [
    "# stereo file handling\n",
    "data, samplerate = sf.read('../abx_software/webMUSHRA_c929877_20180814/configs/resources/stimuli/pnoise_ref.wav')\n",
    "x = np.array(data.T)\n",
    "print(x.shape)\n",
    "print('ITU 1770-4 loudness = ', get_LUFS_Stereo(x, samplerate), 'LUFS')  # transpose data!\n",
    "print('ITU 1770-4 true peak = ', np.max(get_dBTruePeak(x)), 'dBTP')\n",
    "\n",
    "# mono file handling\n",
    "data, samplerate = sf.read('../abx_software/webMUSHRA_c929877_20180814/configs/resources/stimuli/pnoise_ref_mono.wav')\n",
    "x = np.array([data.T])\n",
    "print(x.shape)\n",
    "print('ITU 1770-4 loudness no Gate= ', get_LUFS_Stereo(x, samplerate), 'LUFS')  # transpose data!\n",
    "print('ITU 1770-4 loudness with Gate= ', util.get_LUFS_Stereo(x.T, samplerate, mono_gated=True), 'LUFS')  # transpose data!\n",
    "print('ITU 1770-4 true peak = ', np.max(get_dBTruePeak(x)), 'dBTP')"
   ]
  }
 ],
 "metadata": {
  "kernelspec": {
   "display_name": "Python 3",
   "language": "python",
   "name": "python3"
  },
  "language_info": {
   "codemirror_mode": {
    "name": "ipython",
    "version": 3
   },
   "file_extension": ".py",
   "mimetype": "text/x-python",
   "name": "python",
   "nbconvert_exporter": "python",
   "pygments_lexer": "ipython3",
   "version": "3.7.2"
  }
 },
 "nbformat": 4,
 "nbformat_minor": 2
}
