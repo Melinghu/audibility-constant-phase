{
 "cells": [
  {
   "cell_type": "markdown",
   "metadata": {},
   "source": [
    "# Short Time Crest Factor Analysis\n",
    "\n",
    "In this notebook, selected audio signals (songs) are analyzed\n",
    "in terms of crest factor.\n",
    "Similar to short-time Fourier analysis,\n",
    "the crest factor is evaluated in a frame-by-frame fashion\n",
    "where consecutive frames overlap.\n",
    "The short-time analysis is performed for differently phase shifted signals."
   ]
  },
  {
   "cell_type": "code",
   "execution_count": null,
   "metadata": {},
   "outputs": [],
   "source": [
    "import numpy as np\n",
    "import util\n",
    "import soundfile as sf\n",
    "import importlib\n",
    "import matplotlib.pyplot as plt\n",
    "from os.path import join\n",
    "from matplotlib import cm\n",
    "from matplotlib import gridspec\n",
    "\n",
    "importlib.reload(util)"
   ]
  },
  {
   "cell_type": "code",
   "execution_count": null,
   "metadata": {},
   "outputs": [],
   "source": [
    "src_dir = '../data/source-signals'\n",
    "out_dir = './'\n",
    "phase_angles = np.linspace(0, 2 * np.pi, endpoint=False, num=int(360))  # rad\n",
    "filter_order = 3963530\n",
    "\n",
    "filename = 'pnoise_voss_full'\n",
    "x, fs = sf.read(join(src_dir, filename + '.wav'))\n",
    "n_start, n_stop = 10789628, 10893326  # in samples\n",
    "t_fadein, t_fadeout = 10, 10  # in milliseconds"
   ]
  },
  {
   "cell_type": "code",
   "execution_count": null,
   "metadata": {},
   "outputs": [],
   "source": [
    "# filename = 'hotelcalifornia_mono_full'\n",
    "# x, fs = sf.read(join(src_dir, filename + '.wav'))\n",
    "# n_start, n_stop = 1981766, 2123080  # in samples\n",
    "# t_fadein, t_fadeout = 10, 10  # in milliseconds"
   ]
  },
  {
   "cell_type": "code",
   "execution_count": null,
   "metadata": {},
   "outputs": [],
   "source": [
    "# filename = 'showme_mono_full'\n",
    "# x, fs = sf.read(join(src_dir, filename + '.wav'))\n",
    "# n_start, n_stop = 4630950, 4713552  # in samples\n",
    "# t_fadein, t_fadeout = 10, 10  # in milliseconds"
   ]
  },
  {
   "cell_type": "code",
   "execution_count": null,
   "metadata": {},
   "outputs": [],
   "source": [
    "# filename = 'asphyxiation_mono_full'\n",
    "# x, fs = sf.read(join(src_dir, filename + '.wav'))\n",
    "# n_start, n_stop = 1734705, 1817408  # in samples\n",
    "# t_fadein, t_fadeout = 10, 10  # in milliseconds"
   ]
  },
  {
   "cell_type": "code",
   "execution_count": null,
   "metadata": {},
   "outputs": [],
   "source": [
    "# filename = 'knifeparty404_mono_full'\n",
    "# songname = 'knifeparty404'\n",
    "# x, fs = sf.read(join(src_dir, filename + '.wav'))\n",
    "# n_start, n_stop = 10789628, 10893326  # in samples\n",
    "# t_fadein, t_fadeout = 10, 10  # in milliseconds"
   ]
  },
  {
   "cell_type": "code",
   "execution_count": null,
   "metadata": {},
   "outputs": [],
   "source": [
    "L_total = len(x)\n",
    "n_fadein = util.t2n(t_fadein, fs=fs, ms=True)\n",
    "n_fadeout = util.t2n(t_fadeout, fs=fs, ms=True)\n",
    "frame_length = n_stop - n_start\n",
    "hop_size = int(np.round(0.5 * frame_length))\n",
    "n_0 = n_start // hop_size\n",
    "num_frames = int((L_total - n_0 - frame_length) / hop_size) + 1\n",
    "m_selection = int((n_start - n_0 - frame_length) / hop_size) + 1\n",
    "time = util.n2t(n_0 + np.arange(num_frames) * hop_size, fs=fs)"
   ]
  },
  {
   "cell_type": "code",
   "execution_count": null,
   "metadata": {},
   "outputs": [],
   "source": [
    "h0 = util.constant_phase_shifter(filter_order, 0)[1]\n",
    "hH = util.constant_phase_shifter(filter_order, -0.5 * np.pi)[1]\n",
    "y0 = util.acausal_filter(x, h0)\n",
    "yH = util.acausal_filter(x, hH)\n",
    "\n",
    "crest_factor = np.zeros((len(phase_angles), num_frames))\n",
    "dc_bias = np.zeros_like(crest_factor)\n",
    "\n",
    "for i, phi in enumerate(phase_angles):\n",
    "    y = np.cos(phi) * y0 - np.sin(phi) * yH\n",
    "    for m in range(num_frames):\n",
    "        idx = n_0 + m * hop_size + np.arange(frame_length)\n",
    "        y_tapered = util.fade(y[idx], n_fadein, n_fadeout)\n",
    "        crest_factor[i, m] = util.crest_factor(y_tapered)\n",
    "        dc_bias[i, m] = np.sum(y_tapered)"
   ]
  },
  {
   "cell_type": "code",
   "execution_count": null,
   "metadata": {},
   "outputs": [],
   "source": [
    "fig, ax = plt.subplots()\n",
    "viridis = cm.get_cmap('viridis', num_frames).colors\n",
    "\n",
    "for m  in range(num_frames):\n",
    "    ax.plot(phase_angles, util.db(crest_factor[:, m]),\n",
    "            color=viridis[m], label='{}'.format(m), alpha=0.25);\n",
    "ax.set_xlabel(r'$\\varphi$')\n",
    "ax.set_ylabel('Crest Factor / dB')\n",
    "ax.set_xlim(0, np.pi)\n",
    "ax.grid();"
   ]
  },
  {
   "cell_type": "code",
   "execution_count": null,
   "metadata": {},
   "outputs": [],
   "source": [
    "def frame2sec(m, frame_length, hop_size, n_0, fs):\n",
    "    return util.n2t(n_0 + m * hop_size + frame_length / 2, fs=fs)\n",
    "\n",
    "C_min = np.min(crest_factor, axis=0)\n",
    "C_max = np.max(crest_factor, axis=0)\n",
    "C_mean = np.mean(crest_factor, axis=None)\n",
    "cmin, cmax = util.db(crest_factor.min()), util.db(crest_factor.max())\n",
    "\n",
    "phi_min = phase_angles[np.argmin(crest_factor, axis=0)]\n",
    "phi_max = phase_angles[np.argmax(crest_factor, axis=0)]\n",
    "dphi = phi_max - phi_min\n",
    "\n",
    "idx_min = np.unravel_index(np.argmin(crest_factor, axis=None), crest_factor.shape)\n",
    "idx_max = np.unravel_index(np.argmax(crest_factor, axis=None), crest_factor.shape)\n",
    "\n",
    "t_selection = frame2sec(m_selection, frame_length, hop_size, n_0, fs)\n",
    "t_min = frame2sec(idx_min[1], frame_length, hop_size, n_0, fs)\n",
    "t_max = frame2sec(idx_max[1], frame_length, hop_size, n_0, fs)\n",
    "\n",
    "\n",
    "fig = plt.figure(figsize=(12, 12))\n",
    "gs = gridspec.GridSpec(5, 1, height_ratios=[1, 1, 1, 1, 5]) \n",
    "\n",
    "ax0 = plt.subplot(gs[0])\n",
    "ax0.fill_between(time, util.db(C_max), util.db(C_min))\n",
    "ax0.plot(t_selection, util.db(C_mean), 'y^', ms=15)\n",
    "ax0.set_ylabel('$C_{min, max}$ / dB')\n",
    "ax0.grid()\n",
    "plt.setp(ax0.get_xticklabels(), visible=False)\n",
    "\n",
    "ax = plt.subplot(gs[1], sharex=ax0)\n",
    "ax.plot(time, util.db(C_max / C_min))\n",
    "ax.plot(t_selection, 0, 'y^', ms=15)\n",
    "ax.set_ylabel(r'$\\Delta C$ / dB')\n",
    "ax.grid()\n",
    "plt.setp(ax.get_xticklabels(), visible=False)\n",
    "\n",
    "ax = plt.subplot(gs[2], sharex=ax0)\n",
    "ax.plot(time, phi_max, label=r'$\\varphi_{max}$')\n",
    "ax.plot(time, phi_min, label=r'$\\varphi_{min}$')\n",
    "ax.plot(t_selection, 0, 'yv', ms=15)\n",
    "ax.set_ylim(0, np.pi)\n",
    "ax.set_ylabel(r'$\\varphi$')\n",
    "ax.grid()\n",
    "ax.legend(loc='lower right')\n",
    "plt.setp(ax.get_xticklabels(), visible=False)\n",
    "\n",
    "ax = plt.subplot(gs[3], sharex=ax0)\n",
    "ax.plot(time, dphi)\n",
    "ax.plot(t_selection, 0, 'yv', ms=15)\n",
    "ax.set_ylim(-np.pi, np.pi)\n",
    "ax.set_ylabel(r'$\\Delta\\varphi$')\n",
    "ax.grid()\n",
    "plt.setp(ax.get_xticklabels(), visible=False)\n",
    "\n",
    "ax = plt.subplot(gs[4], sharex=ax0)\n",
    "ax.imshow(util.db(crest_factor), vmin=cmin, vmax=cmax,\n",
    "          extent=[time[0], time[-1], phase_angles[0], phase_angles[-1]], origin='lower')\n",
    "ax.axis('tight')\n",
    "for m in range(num_frames):\n",
    "    tm = frame2sec(m, frame_length, hop_size, n_0, fs)\n",
    "    phi_min = phase_angles[np.argmin(crest_factor[:, m])]\n",
    "    phi_max = phase_angles[np.argmax(crest_factor[:, m])]\n",
    "    ax.plot(tm, phi_min, 'wx')\n",
    "    ax.plot(tm, phi_max, 'wo')\n",
    "ax.plot(t_min, phase_angles[idx_min[0]], 'rx', ms=12)\n",
    "ax.plot(t_max, phase_angles[idx_max[0]], 'ro', ms=12)\n",
    "ax.plot(t_selection, 0, 'y^', ms=15)\n",
    "ax.set_xlabel('Time / s')\n",
    "ax.set_ylabel(r'$\\varphi$')\n",
    "ax.grid();\n",
    "\n",
    "plt.tight_layout()\n",
    "plt.savefig(filename + '.png')"
   ]
  }
 ],
 "metadata": {
  "kernelspec": {
   "display_name": "Python [default]",
   "language": "python",
   "name": "python3"
  },
  "language_info": {
   "codemirror_mode": {
    "name": "ipython",
    "version": 3
   },
   "file_extension": ".py",
   "mimetype": "text/x-python",
   "name": "python",
   "nbconvert_exporter": "python",
   "pygments_lexer": "ipython3",
   "version": "3.5.6"
  },
  "varInspector": {
   "cols": {
    "lenName": 16,
    "lenType": 16,
    "lenVar": 40
   },
   "kernels_config": {
    "python": {
     "delete_cmd_postfix": "",
     "delete_cmd_prefix": "del ",
     "library": "var_list.py",
     "varRefreshCmd": "print(var_dic_list())"
    },
    "r": {
     "delete_cmd_postfix": ") ",
     "delete_cmd_prefix": "rm(",
     "library": "var_list.r",
     "varRefreshCmd": "cat(var_dic_list()) "
    }
   },
   "types_to_exclude": [
    "module",
    "function",
    "builtin_function_or_method",
    "instance",
    "_Feature"
   ],
   "window_display": false
  }
 },
 "nbformat": 4,
 "nbformat_minor": 2
}
