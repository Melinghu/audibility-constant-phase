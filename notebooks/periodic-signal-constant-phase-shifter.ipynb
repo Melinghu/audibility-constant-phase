{
 "cells": [
  {
   "cell_type": "markdown",
   "metadata": {},
   "source": [
    "# Constant Phase Shift of Periodic Signals\n",
    "\n",
    "Constant phase shift of a periodic signal is performed in the DFT domain,\n",
    "which is equivalent to the periodic convolution of the constant phase shifter."
   ]
  },
  {
   "cell_type": "code",
   "execution_count": null,
   "metadata": {},
   "outputs": [],
   "source": [
    "import numpy as np\n",
    "import matplotlib.pyplot as plt\n",
    "import soundfile as sf\n",
    "import util\n",
    "from util import db\n",
    "from scipy.signal import resample, kaiser, freqz\n",
    "from os.path import join"
   ]
  },
  {
   "cell_type": "markdown",
   "metadata": {},
   "source": [
    "## Periodic Repetition\n",
    "\n",
    "Periodic repetition of constant phase shifters for period $M$ reads\n",
    "\n",
    "\\begin{align}\n",
    "\\tilde{h}[n] = \\sum_{k=-\\infty}^{\\infty} h[n - k M]\n",
    "\\end{align}\n",
    "\n",
    "where $h[n]$ is the impulse response of a constant phase shifter\n",
    "\n",
    "\\begin{align}\n",
    "h[n] =\n",
    "\\begin{cases}\n",
    "\\cos\\varphi,& n=0\\\\\n",
    "0,& \\text{$n\\neq 0$ even}\\\\\n",
    "\\frac{-2}{\\pi n}\\sin\\varphi,& \\text{$n$ odd}.\n",
    "\\end{cases}\n",
    "\\end{align}\n",
    "\n",
    "The latter is a linear combination of two components\n",
    "that form an analytic signal pair,\n",
    "\n",
    "\\begin{align}\n",
    "h[n] = \\cos\\varphi \\cdot \\delta[n] - \\sin\\varphi \\cdot h_\\text{H}[n]\n",
    "\\end{align}\n",
    "\n",
    "where $\\delta[n]$ denotes the unit impulse function\n",
    "and $h_\\text{H}[n]$ its Hilbert transformer,\n",
    "\n",
    "\\begin{align}\n",
    "h_\\text{H}[n] =\n",
    "\\begin{cases}\n",
    "0,& \\text{$n$ even}\\\\\n",
    "\\frac{2}{\\pi n},& \\text{$n$ odd}.\n",
    "\\end{cases}\n",
    "\\end{align}\n",
    "\n",
    "The infinite summation can be also decomposed as\n",
    "\n",
    "\\begin{align}\n",
    "\\tilde{h}[n] =\n",
    "\\cos\\varphi \\sum_{k=-\\infty}^{\\infty} \\delta[n - kM]\n",
    "- \\sin\\varphi \\sum_{k=-\\infty}^{\\infty} h_\\text{H}[n - kM].\n",
    "\\end{align}\n",
    "\n",
    "Since $\\tilde{h}[n]$ is periodic, only one period needs to be specified,\n",
    "e.g. $\\tilde{h}[n], n=0,\\ldots,M-1$."
   ]
  },
  {
   "cell_type": "code",
   "execution_count": null,
   "metadata": {},
   "outputs": [],
   "source": [
    "def periodic_constant_phase_shifter_summation(period, phase_angle, order=10):\n",
    "    h = np.zeros(period)\n",
    "    for m in range(-order, order + 1):\n",
    "        idx = m * period + np.arange(period)\n",
    "        h += util.discrete_ir_constant_phase(idx, phase_angle)\n",
    "    return h\n",
    "\n",
    "phase_angle = 0.25 * np.pi\n",
    "Orders = 0, 1, 20\n",
    "\n",
    "N_even, N_odd = 32, 31\n",
    "\n",
    "fig, Ax = plt.subplots(figsize=(15, 3), ncols=3, sharey=True)\n",
    "for order, ax in zip(Orders, Ax):\n",
    "    h_sum_even = periodic_constant_phase_shifter_summation(N_even, phase_angle, order)\n",
    "    ax.stem(h_sum_even)\n",
    "    ax.grid()\n",
    "    ax.set_xlabel('$n$ / samples')\n",
    "    ax.set_title('$N={:0.0f}$ / {:0.0f} Term(s)'.format(N_even, 2 * order + 1))\n",
    "\n",
    "fig, Ax = plt.subplots(figsize=(15, 3), ncols=3, sharey=True)\n",
    "for order, ax in zip(Orders, Ax):\n",
    "    h_sum_odd = periodic_constant_phase_shifter_summation(N_odd, phase_angle, order)\n",
    "    ax.stem(h_sum_odd)\n",
    "    ax.grid()\n",
    "    ax.set_xlabel('$n$ / samples')\n",
    "    ax.set_title('$N={:0.0f}$ / {:0.0f} Term(s)'.format(N_odd, 2 * order + 1))    "
   ]
  },
  {
   "cell_type": "markdown",
   "metadata": {},
   "source": [
    "### Even $M$\n",
    "\n",
    "$n=0$\n",
    "\n",
    "\\begin{align}\n",
    "\\tilde{h}[0]\n",
    "&= \\cos\\varphi - \\sin\\varphi \\sum_{k=-\\infty}^{\\infty} h_\\text{H}[-kM]\\\\\n",
    "&= \\cos\\varphi\n",
    "\\end{align}\n",
    "\n",
    "The second summation vanishes since $h_\\text{H}[- k M] = 0, \\forall k\\in\\mathbb{Z}$.\n",
    "\n",
    "$n \\neq 0$ even\n",
    "\n",
    "\\begin{align}\n",
    "\\tilde{h}[n]\n",
    "&= \\cos\\varphi \\sum_{k=-\\infty}^{\\infty} \\delta[n - kM]\n",
    "- \\sin\\varphi \\sum_{k=-\\infty}^{\\infty} h_\\text{H}[n - kM]\\\\\n",
    "&= 0\n",
    "\\end{align}\n",
    "\n",
    "Again, the second summation vanishes because $n - kM$\n",
    "is always an even number and thus $h_\\text{H}[n - kM] = 0, \\forall k\\in\\mathbb{Z}$.\n",
    "\n",
    "$n$ odd\n",
    "\n",
    "\\begin{align}\n",
    "\\tilde{h}[n]\n",
    "&= \\cos\\varphi \\sum_{k=-\\infty}^{\\infty} \\delta[n - kM]\n",
    "- \\sin\\varphi \\sum_{k=-\\infty}^{\\infty} h_\\text{H}[n - kM]\\\\\n",
    "&= 0 + \\frac{-2 \\sin\\varphi}{\\pi} \\left[\n",
    "\\frac{1}{n} + \\sum_{k'=1}^{\\infty}\n",
    "\\left(\\frac{1}{n - k'M} + \\frac{1}{n + k'M}\\right) \\right]\\\\\n",
    "&= \\frac{-2 \\sin\\varphi}{\\pi} \\left[\n",
    "\\frac{1}{n} + 2n \\sum_{k'=1}^{\\infty}\n",
    "\\left(\\frac{1}{n^2 + (k'M)^2}\\right) \\right]\\\\\n",
    "&= \\frac{-2 \\sin\\varphi}{\\pi M} \\left[\n",
    "\\frac{M}{n} + \\frac{2n}{M} \\sum_{k'=1}^{\\infty}\n",
    "\\left(\\frac{1}{(n/M)^2 - k'^2}\\right) \\right]\\\\\n",
    "&= \\frac{-2 \\sin\\varphi}{M}\n",
    "\\cot\\left(\\frac{\\pi n}{M}\\right)\n",
    "\\end{align}\n",
    "\n",
    "In the last equality, the series expansion of the cotangent function is exploited,\n",
    "\n",
    "\\begin{align}\n",
    "\\pi \\cot(\\pi z) = \\frac{1}{z} + 2 z \\sum_{k=1}^{\\infty} \\frac{1}{z^2 - k^2}.\n",
    "\\end{align}\n",
    "\n",
    "To summarize,\n",
    "\n",
    "\\begin{align}\n",
    "\\tilde{h}[n] =\n",
    "\\begin{cases}\n",
    "\\cos\\varphi,& n=0\\\\\n",
    "0,& \\text{$n\\neq 0$ even}\\\\\n",
    "\\frac{-2\\sin\\varphi}{M} \\cot\\left(\\tfrac{\\pi n}{M}\\right),\n",
    "& \\text{$n$ odd}\n",
    "\\end{cases}\n",
    "\\end{align}\n",
    "\n",
    "for even $M$."
   ]
  },
  {
   "cell_type": "markdown",
   "metadata": {},
   "source": [
    "### Odd $M$\n",
    "\n",
    "$n=0$\n",
    "\n",
    "\\begin{align}\n",
    "\\tilde{h}[0]\n",
    "&= \\cos\\varphi - \\sin\\varphi \\sum_{k=-\\infty}^{\\infty} h_\\text{H}[-kM]\\\\\n",
    "&= \\cos\\varphi\n",
    "\\end{align}\n",
    "\n",
    "In the summation, $h_\\text{H}[-kM] = 0$ for even $k$,\n",
    "and $h_\\text{H}[-kM] + h_\\text{H}[kM] = 0$ for odd $k$.\n",
    "\n",
    "$n \\neq 0$ even\n",
    "\n",
    "\\begin{align}\n",
    "\\tilde{h}[n]\n",
    "&= \\cos\\varphi \\sum_{k=-\\infty}^{\\infty} \\delta[n - kM]\n",
    "- \\sin\\varphi \\sum_{k=-\\infty}^{\\infty} h_\\text{H}[n - kM]\\\\\n",
    "&= 0 + -\\sin\\varphi\n",
    "\\left[h_\\text{H}[n + M] +  \\sum_{k'=1}^{\\infty} h_\\text{H}[n + M + 2k' M]\n",
    "+ h_\\text{H}[n + M - 2k'M]\\right]\\\\\n",
    "&= \\frac{-2\\sin\\varphi}{\\pi} \\left[\n",
    "\\frac{1}{n'} + \\sum_{k'=1}^{\\infty}\n",
    "\\left(\\frac{1}{n' + 2k'M} + \\frac{1}{n' - 2k'M}\\right)\n",
    "\\right]\\\\\n",
    "&= \\frac{-2\\sin\\varphi}{\\pi} \\left[\n",
    "\\frac{1}{n'} + 2n \\sum_{k'=1}^{\\infty}\n",
    "\\left(\\frac{1}{n'^2 - (2k'M)^2}\\right)\n",
    "\\right]\\\\\n",
    "&= \\frac{-\\sin\\varphi}{\\pi M} \\left[\n",
    "\\frac{2M}{n'} + \\frac{n}{M} \\sum_{k'=1}^{\\infty}\n",
    "\\left(\\frac{1}{n'^2 - (2k'M)^2}\\right)\n",
    "\\right]\\\\\n",
    "&= \\frac{-\\sin\\varphi}{M}\n",
    "\\cot\\left(\\frac{\\pi (n + M)}{2M}\\right)\n",
    "\\end{align}\n",
    "\n",
    "In the third equality, the variable is substituted by $n' = n + M$.\n",
    "The series expansion of the cotangent function is used in the last equality.\n",
    "\n",
    "$n \\neq 0$ odd\n",
    "\n",
    "\\begin{align}\n",
    "\\tilde{h}[n]\n",
    "&= \\cos\\varphi \\sum_{k=-\\infty}^{\\infty} \\delta[n - kM]\n",
    "- \\sin\\varphi \\sum_{k=-\\infty}^{\\infty} h_\\text{H}[n - kM]\\\\\n",
    "&= 0 + -2\\sin\\varphi\n",
    "\\left[h_\\text{H}[n] + \\sum_{k'=1}^{\\infty} h_\\text{H}[n + 2k' M]\n",
    "+ h_\\text{H}[n - 2k'M]\\right]\\\\\n",
    "&= \\frac{-2\\sin\\varphi}{\\pi} \\left[\n",
    "\\frac{1}{n} + \\sum_{k'=1}^{\\infty}\n",
    "\\left(\\frac{1}{n + 2k'M} + \\frac{1}{n - 2k'M}\\right)\n",
    "\\right]\\\\\n",
    "&= \\frac{-2\\sin\\varphi}{\\pi} \\left[\n",
    "\\frac{1}{n} + 2n \\sum_{k'=1}^{\\infty}\n",
    "\\left(\\frac{1}{n^2 - (2k'M)^2}\\right)\n",
    "\\right]\\\\\n",
    "&= \\frac{-\\sin\\varphi}{\\pi M} \\left[\n",
    "\\frac{2M}{n} + \\frac{n}{M} \\sum_{k'=1}^{\\infty}\n",
    "\\left(\\frac{1}{n^2 - (2k'M)^2}\\right)\n",
    "\\right]\\\\\n",
    "&= \\frac{-\\sin\\varphi}{M}\n",
    "\\cot\\left(\\frac{\\pi n}{2M}\\right)\n",
    "\\end{align}\n",
    "\n",
    "Again, the series expansion of the cotangent function is used in the last equality.\n",
    "\n",
    "To summarize,\n",
    "\n",
    "\\begin{align}\n",
    "\\tilde{h}[n] =\n",
    "\\begin{cases}\n",
    "\\cos\\varphi,& n=0\\\\\n",
    "\\frac{-\\sin\\varphi}{M} \\cot\\left(\\tfrac{\\pi (n + M)}{2M}\\right),& \\text{$n\\neq 0$ even}\\\\\n",
    "\\frac{-\\sin\\varphi}{M} \\cot\\left(\\tfrac{\\pi n}{2M}\\right),\n",
    "& \\text{$n$ odd}\n",
    "\\end{cases}\n",
    "\\end{align}\n",
    "\n",
    "for odd $M$."
   ]
  },
  {
   "cell_type": "code",
   "execution_count": null,
   "metadata": {},
   "outputs": [],
   "source": [
    "def periodic_constant_phase_shifter_analytic(N, phase_angle):\n",
    "    n = np.arange(N)\n",
    "    h = np.zeros(N)\n",
    "\n",
    "    if N%2==0:\n",
    "        n_odd = n[n%2==1]\n",
    "        h[n%2==1] = 2 / N / np.tan(np.pi * n_odd / N)\n",
    "    elif N%2==1:\n",
    "        n_odd = n[n%2==1]\n",
    "        n_even_nonzero = n[(n%2==0) & (n!=0)]\n",
    "        h[n%2==1] = 1 / N / np.tan(np.pi * n_odd / 2 / N)\n",
    "        h[(n%2==0) & (n!=0)] = 1 / N / np.tan(np.pi * (n_even_nonzero + N) / 2 / N)\n",
    "    h[1:] *= -np.sin(phase_angle)\n",
    "    h[0] = np.cos(phase_angle)\n",
    "    return h\n",
    "\n",
    "phase_angle = 0.25 * np.pi\n",
    "\n",
    "N_even, N_odd = 32, 31\n",
    "h_analytic_even = periodic_constant_phase_shifter_analytic(N_even, phase_angle)\n",
    "h_analytic_odd = periodic_constant_phase_shifter_analytic(N_odd, phase_angle)\n",
    "\n",
    "fig, Ax = plt.subplots(figsize=(12, 3), ncols=2, sharey=True)\n",
    "Ax[0].stem(h_analytic_even)\n",
    "Ax[1].stem(h_analytic_odd)\n",
    "Ax[0].set_title('$N={:0.0f}$ (Analytic)'.format(N_even))\n",
    "Ax[1].set_title('$N={:0.0f}$ (Analytic)'.format(N_odd))\n",
    "for ax in Ax:\n",
    "    ax.grid()\n",
    "    ax.set_xlabel('$n$ / samples')"
   ]
  },
  {
   "cell_type": "markdown",
   "metadata": {},
   "source": [
    "### DFT\n",
    "\n",
    "Discrete and periodic signals can be represented in terms of\n",
    "discrete Fourier series expansion which is equivalent to\n",
    "the discrete Fourier transform (DFT).\n",
    "Therefore, the periodic constant phase shifter can be\n",
    "defined in terms of DFT spectrum,\n",
    "\n",
    "\\begin{align}\n",
    "H[k] =\n",
    "\\begin{cases}\n",
    "e^{+i\\varphi},& k = 1,\\ldots,\\frac{M}{2}-1\\\\\n",
    "e^{-i\\varphi},& k = \\frac{M}{2}+1, \\ldots, M-1\\\\\n",
    "\\cos\\varphi,& k = 0, \\frac{M}{2}\n",
    "\\end{cases}\n",
    "\\end{align}\n",
    "\n",
    "for even $M$, and\n",
    "\n",
    "\\begin{align}\n",
    "H[k] =\n",
    "\\begin{cases}\n",
    "e^{+i\\varphi},& k = 1,\\ldots,\\frac{M - 1}{2}\\\\\n",
    "e^{-i\\varphi},& k = \\frac{M + 1}{2}, \\ldots, M-1\\\\\n",
    "\\cos\\varphi,& k = 0\n",
    "\\end{cases}\n",
    "\\end{align}\n",
    "\n",
    "for odd $M$.\n",
    "The impulse response is the inverse DFT of $H[k]$."
   ]
  },
  {
   "cell_type": "code",
   "execution_count": null,
   "metadata": {},
   "outputs": [],
   "source": [
    "def periodic_constant_phase_shifter_idft(N, phase_angle):\n",
    "    H = np.ones(N // 2 + 1, dtype='complex')\n",
    "    H[0] = np.cos(phase_angle)\n",
    "    if N % 2 is 0:\n",
    "        H[1:-1] *= np.exp(1j * phase_angle)\n",
    "        H[-1] = np.cos(phase_angle)\n",
    "    elif N % 2 is 1:\n",
    "        H[1:] *= np.exp(1j * phase_angle)\n",
    "    return np.fft.irfft(H, n=N)\n",
    "\n",
    "phase_angle = 0.25 * np.pi\n",
    "\n",
    "N_even, N_odd = 32, 31\n",
    "h_idft_even = periodic_constant_phase_shifter_idft(N_even, phase_angle)\n",
    "h_idft_odd = periodic_constant_phase_shifter_idft(N_odd, phase_angle)\n",
    "\n",
    "fig, Ax = plt.subplots(figsize=(12, 3), ncols=2, sharey=True)\n",
    "Ax[0].stem(h_idft_even)\n",
    "Ax[1].stem(h_idft_odd)\n",
    "Ax[0].set_title('$N={:0.0f}$ (IDFT)'.format(N_even))\n",
    "Ax[1].set_title('$N={:0.0f}$ (IDFT)'.format(N_odd))\n",
    "for ax in Ax:\n",
    "    ax.grid()\n",
    "    ax.set_xlabel('$n$ / samples')"
   ]
  },
  {
   "cell_type": "code",
   "execution_count": null,
   "metadata": {},
   "outputs": [],
   "source": [
    "fig, ax = plt.subplots(figsize=(12, 3), ncols=2, sharey=True)\n",
    "ax[0].plot(db(h_analytic_even - h_sum_even), '-o', label='sum')\n",
    "ax[0].plot(db(h_analytic_even - h_idft_even), '-o', label='idft')\n",
    "ax[1].plot(db(h_analytic_odd - h_sum_odd), '-o', label='sum')\n",
    "ax[1].plot(db(h_analytic_odd - h_idft_odd), '-o', label='idft')\n",
    "for axi in ax:\n",
    "    axi.grid()\n",
    "    axi.set_xlabel('$n$')\n",
    "ax[0].set_title('$N={:0.0f}$'.format(N_even))\n",
    "ax[1].set_title('$N={:0.0f}$'.format(N_odd))\n",
    "ax[0].set_ylabel('Error / dB')\n",
    "ax[0].legend();"
   ]
  },
  {
   "cell_type": "markdown",
   "metadata": {},
   "source": [
    "## Example I - Castanets"
   ]
  },
  {
   "cell_type": "code",
   "execution_count": null,
   "metadata": {},
   "outputs": [],
   "source": [
    "src_dir = '../data/source-signals'\n",
    "filename = 'castanets'\n",
    "suffix = '.wav'\n",
    "\n",
    "s, fs = sf.read(join(src_dir, filename + suffix), start=5000, stop=12000)\n",
    "n_sig = len(s)\n",
    "t_sig = util.n2t(n_sig, fs, ms=True)"
   ]
  },
  {
   "cell_type": "markdown",
   "metadata": {},
   "source": [
    "A phase shift can cause increased peak of the signal.\n",
    "In order to have enough headroom,\n",
    "the maximum amplitude of the source signal is normalized to the value `peak`.\n",
    "The true peak `true_peak` is obtained from the oversampled signal."
   ]
  },
  {
   "cell_type": "code",
   "execution_count": null,
   "metadata": {},
   "outputs": [],
   "source": [
    "peak = -6\n",
    "oversample = 4\n",
    "true_peak = np.max(np.abs(resample(s, oversample * n_sig)))\n",
    "s *= 10**(s / 20) / true_peak\n",
    "db(np.max(np.abs(s)))"
   ]
  },
  {
   "cell_type": "code",
   "execution_count": null,
   "metadata": {},
   "outputs": [],
   "source": [
    "repetition = 3\n",
    "t_period, t_predelay, t_intro, t_outro = 500, 25, 15, 15  # in milliseconds\n",
    "n_period, n_predelay, n_intro, n_outro = (np.array([t_period, t_predelay, t_intro, t_outro]) / 1000 * fs).astype('int')\n",
    "n_fadein, n_fadeout = n_intro + n_predelay, n_outro + n_period - n_sig - n_predelay\n",
    "n_fft = n_period\n",
    "n_full = repetition * n_period + n_intro + n_outro"
   ]
  },
  {
   "cell_type": "markdown",
   "metadata": {},
   "source": [
    "Properly chosen number of zeros are prepended and appended."
   ]
  },
  {
   "cell_type": "code",
   "execution_count": null,
   "metadata": {},
   "outputs": [],
   "source": [
    "s_oneperiod = np.zeros(n_period)\n",
    "s_oneperiod[n_predelay + 1:n_predelay + 1 + n_sig] = s"
   ]
  },
  {
   "cell_type": "markdown",
   "metadata": {},
   "source": [
    "The constant phase shift in the DFT domain is performed as follows.\n",
    "\n",
    "- For input signal `x`, the DFT spectrum `X` is computed\n",
    "- Since `x` is real, only the first half of the spectrum suffices\n",
    "  (using `numpy.fft.rfft`)\n",
    "- A constant phase shift is applied to the spectrum\n",
    "  by multiplying the complex exponential `np.exp(1j * phi)`\n",
    "  except the DC spectrum `X[0]` (and also `X[N-1]` if `N` is even).\n",
    "- $\\cos\\varphi$ is multiplied to `X[0]` (and `X[N-1]` for even `N`).\n",
    "- Finally, the phase shifted signal is obtained by\n",
    "  inverse DFT `numpy.fft.irfft`.\n",
    "  The DFT length has to be specified."
   ]
  },
  {
   "cell_type": "code",
   "execution_count": null,
   "metadata": {},
   "outputs": [],
   "source": [
    "def constant_phaseshift_dft(x, phi):\n",
    "    N = len(x)\n",
    "    X = np.fft.rfft(x)\n",
    "    X[0] *= np.cos(phi)\n",
    "    X[1:-1] *= np.exp(1j * phi)\n",
    "    if N % 2 == 1:\n",
    "        X[-1] *= np.exp(1j * phi)\n",
    "    elif N % 2 == 0:\n",
    "        X[-1] *= np.cos(phi)\n",
    "    return np.fft.irfft(X, n=N)"
   ]
  },
  {
   "cell_type": "code",
   "execution_count": null,
   "metadata": {},
   "outputs": [],
   "source": [
    "phase_angle = np.pi / 2\n",
    "\n",
    "s_phaseshift = constant_phaseshift_dft(s_oneperiod, phase_angle)"
   ]
  },
  {
   "cell_type": "code",
   "execution_count": null,
   "metadata": {},
   "outputs": [],
   "source": [
    "t = np.arange(n_period) * 1000 / fs\n",
    "\n",
    "fig, ax = plt.subplots(figsize=(12, 4), ncols=2, gridspec_kw={'wspace':0.3})\n",
    "\n",
    "ax[0].plot(t, s_oneperiod, label='Original')\n",
    "ax[0].plot(t, s_phaseshift, label='Phase shifted')\n",
    "ax[0].plot(t_predelay, 0, 'kx')\n",
    "ax[0].plot(t_period - t_predelay, 0, 'kx')\n",
    "ax[0].set_xlabel('$t$ / ms')\n",
    "ax[0].grid()\n",
    "\n",
    "ax[1].semilogx(db(np.fft.rfft(s_oneperiod)))\n",
    "ax[1].semilogx(db(np.fft.rfft(s_phaseshift)))\n",
    "ax[1].set_xlabel('$\\mu$ (DFT bin)')\n",
    "ax[1].set_ylabel('Magnitude / dB')\n",
    "ax[1].set_title('DFT Spectrum')\n",
    "ax[1].set_ylim(-100)\n",
    "ax[1].grid()"
   ]
  },
  {
   "cell_type": "markdown",
   "metadata": {},
   "source": [
    "The intro and outro positions are indicated by $\\times$.\n",
    "\n",
    "Although the phase shifted signal has a different peak,\n",
    "the energy of the two signals are the same."
   ]
  },
  {
   "cell_type": "code",
   "execution_count": null,
   "metadata": {},
   "outputs": [],
   "source": [
    "db(np.linalg.norm(s_oneperiod)), db(np.linalg.norm(s_phaseshift))"
   ]
  },
  {
   "cell_type": "markdown",
   "metadata": {},
   "source": [
    "The crest factors is different, though."
   ]
  },
  {
   "cell_type": "code",
   "execution_count": null,
   "metadata": {},
   "outputs": [],
   "source": [
    "db(util.crest_factor(s_oneperiod, oversample=4)), db(util.crest_factor(s_phaseshift, oversample=4))"
   ]
  },
  {
   "cell_type": "markdown",
   "metadata": {},
   "source": [
    "The signal is now\n",
    "* concatenated (using `np.tile`)\n",
    "* prepended and appended by zeros (`n_intro` and `n_outro` respectively)\n",
    "* fade-in and -out (`n_fadein` and `n_fadeout` respectively using `util.fade`)"
   ]
  },
  {
   "cell_type": "code",
   "execution_count": null,
   "metadata": {},
   "outputs": [],
   "source": [
    "s_full = np.zeros(n_full)\n",
    "s_full[n_intro:-n_outro] = np.tile(s_phaseshift, repetition)\n",
    "s_full = util.fade(s_full, n_fadein, n_fadeout, type='h')"
   ]
  },
  {
   "cell_type": "code",
   "execution_count": null,
   "metadata": {},
   "outputs": [],
   "source": [
    "t = np.arange(n_full) * 1000 / fs\n",
    "\n",
    "fig, ax = plt.subplots(figsize=(12, 8), nrows=2, sharex=True)\n",
    "\n",
    "ax[0].plot(t, s_full)\n",
    "ax[1].plot(t, db(s_full))\n",
    "ax[1].set_ylabel('Amplitude / dB')\n",
    "ax[1].set_xlabel('$t$ / ms')\n",
    "for axi in ax:\n",
    "    axi.grid()\n",
    "    for i in range(repetition + 1):\n",
    "        axi.plot(t_intro + i * t_period, 0, 'kv')"
   ]
  },
  {
   "cell_type": "markdown",
   "metadata": {},
   "source": [
    "The beginning and ending of each period are indicated\n",
    "by black triangles."
   ]
  },
  {
   "cell_type": "markdown",
   "metadata": {},
   "source": [
    "## Example II - Square Wave Bursts"
   ]
  },
  {
   "cell_type": "code",
   "execution_count": null,
   "metadata": {},
   "outputs": [],
   "source": [
    "fs = 44100\n",
    "f0 = 50\n",
    "num_partials = 10\n",
    "amplitude = 0.25\n",
    "duration = 10 / f0\n",
    "phase_angle = 0.5 * np.pi\n",
    "modal_window = kaiser(2 * num_partials + 1, beta=4)[num_partials + 1:]\n",
    "\n",
    "_, square, _ = util.square_wave(f0, num_partials, amplitude, duration,\n",
    "                                  fs, 0, modal_window)\n",
    "\n",
    "n_sig = len(square)\n",
    "t_sig = n_sig * 1000 / fs\n",
    "t_sig, 1000 / f0"
   ]
  },
  {
   "cell_type": "markdown",
   "metadata": {},
   "source": [
    "A square wave with phase shift 0 is first generated."
   ]
  },
  {
   "cell_type": "code",
   "execution_count": null,
   "metadata": {},
   "outputs": [],
   "source": [
    "t_taper = 2 / f0 * 1000\n",
    "n_taper = int(t_taper / 1000 * fs)\n",
    "n_taper"
   ]
  },
  {
   "cell_type": "code",
   "execution_count": null,
   "metadata": {},
   "outputs": [],
   "source": [
    "square_tapered = util.fade(square, n_taper, n_taper, type='h')\n",
    "\n",
    "t = np.arange(n_sig) * 1000 / fs\n",
    "\n",
    "plt.plot(t, square, c='lightgray')\n",
    "plt.plot(t, square_tapered)\n",
    "plt.xlabel('$t$ / ms')\n",
    "plt.grid();"
   ]
  },
  {
   "cell_type": "code",
   "execution_count": null,
   "metadata": {},
   "outputs": [],
   "source": [
    "repetition = 3\n",
    "t_period, t_predelay, t_intro, t_outro = 240, 20, 20, 20  # in milliseconds\n",
    "n_period = util.t2n(t_period, fs=fs, ms=True)\n",
    "n_predelay = util.t2n(t_predelay, fs=fs, ms=True)\n",
    "n_intro = util.t2n(t_intro, fs=fs, ms=True)\n",
    "n_outro = util.t2n(t_outro, fs=fs, ms=True)\n",
    "n_fadein, n_fadeout = n_intro + n_predelay, n_outro + n_period - n_sig - n_predelay\n",
    "n_fft = n_period\n",
    "n_full = repetition * n_period + n_intro + n_outro"
   ]
  },
  {
   "cell_type": "code",
   "execution_count": null,
   "metadata": {},
   "outputs": [],
   "source": [
    "square_oneperiod = np.zeros(n_period)\n",
    "square_oneperiod[n_predelay + 1:n_predelay + 1 + n_sig] = square_tapered\n",
    "t = np.arange(n_period) * 1000 / fs\n",
    "\n",
    "square_phaseshift = util.constant_phase_shift_dft(square_oneperiod, -np.pi / 2)\n",
    "\n",
    "fig, ax = plt.subplots(figsize=(12, 4), ncols=2, gridspec_kw={'wspace':0.3})\n",
    "\n",
    "ax[0].plot(t, square_oneperiod)\n",
    "ax[0].plot(t, square_phaseshift)\n",
    "ax[0].set_xlabel('$t$ / ms')\n",
    "ax[0].grid();\n",
    "\n",
    "ax[1].semilogx(db(np.fft.rfft(square_oneperiod)))\n",
    "ax[1].semilogx(db(np.fft.rfft(square_phaseshift)))\n",
    "ax[1].set_xlabel('$\\mu$ (DFT bin)')\n",
    "ax[1].set_ylabel('Magnitude / dB')\n",
    "ax[1].set_title('DFT Spectrum')\n",
    "ax[1].set_ylim(-100)\n",
    "ax[1].grid()"
   ]
  },
  {
   "cell_type": "code",
   "execution_count": null,
   "metadata": {},
   "outputs": [],
   "source": [
    "square_oneperiod.shape, square_phaseshift.shape, n_full - n_intro - n_outro"
   ]
  },
  {
   "cell_type": "markdown",
   "metadata": {},
   "source": [
    "A constant phase shift is applied in the DFT domain\n",
    "by using the utility function `util.constant_phase_shift_dft`.\n",
    "\n",
    "The crest factor of a square wave is very\n",
    "sensitive to phase shift."
   ]
  },
  {
   "cell_type": "code",
   "execution_count": null,
   "metadata": {},
   "outputs": [],
   "source": [
    "db(util.crest_factor(square_oneperiod, oversample=4)), db(util.crest_factor(square_phaseshift, oversample=4))"
   ]
  }
 ],
 "metadata": {
  "kernelspec": {
   "display_name": "Python [default]",
   "language": "python",
   "name": "python3"
  },
  "language_info": {
   "codemirror_mode": {
    "name": "ipython",
    "version": 3
   },
   "file_extension": ".py",
   "mimetype": "text/x-python",
   "name": "python",
   "nbconvert_exporter": "python",
   "pygments_lexer": "ipython3",
   "version": "3.5.6"
  },
  "varInspector": {
   "cols": {
    "lenName": 16,
    "lenType": 16,
    "lenVar": 40
   },
   "kernels_config": {
    "python": {
     "delete_cmd_postfix": "",
     "delete_cmd_prefix": "del ",
     "library": "var_list.py",
     "varRefreshCmd": "print(var_dic_list())"
    },
    "r": {
     "delete_cmd_postfix": ") ",
     "delete_cmd_prefix": "rm(",
     "library": "var_list.r",
     "varRefreshCmd": "cat(var_dic_list()) "
    }
   },
   "types_to_exclude": [
    "module",
    "function",
    "builtin_function_or_method",
    "instance",
    "_Feature"
   ],
   "window_display": false
  }
 },
 "nbformat": 4,
 "nbformat_minor": 2
}
