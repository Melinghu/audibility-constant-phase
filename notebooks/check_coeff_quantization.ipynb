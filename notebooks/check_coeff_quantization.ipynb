{
 "cells": [
  {
   "cell_type": "markdown",
   "metadata": {},
   "source": [
    "# Check Fixed Point Quantization to FIR Coefficients"
   ]
  },
  {
   "cell_type": "code",
   "execution_count": null,
   "metadata": {},
   "outputs": [],
   "source": [
    "import numpy as np\n",
    "import util"
   ]
  },
  {
   "cell_type": "code",
   "execution_count": null,
   "metadata": {},
   "outputs": [],
   "source": [
    "filter_order = 2**11  # 2**11 would be suitable with 24 Bit, 2**5 with 16 Bit\n",
    "\n",
    "fs = 44100\n",
    "min16Bit = 2**-15\n",
    "min24Bit = 2**-23\n",
    "reference_phase = 0\n",
    "phimin, phimax, dphi = -165, 165, 15\n",
    "phase_angles_deg = np.arange(phimin, phimax + dphi, dphi)\n",
    "phase_angles = np.pi / 180 * phase_angles_deg\n",
    "half_length = filter_order / 2\n",
    "group_delay = half_length / fs\n",
    "beta = 8.6\n",
    "_, href = util.constant_phase_shifter(filter_order, reference_phase, beta=beta)\n",
    "phase_shifters = [util.constant_phase_shifter(filter_order, phi, beta=beta)[1]\n",
    "                  for phi in phase_angles]\n",
    "for n in range(0,len(phase_angles_deg)):\n",
    "    tail = phase_shifters[n][1::2]\n",
    "    print(phase_angles_deg[n], 'deg: min FIR=',\n",
    "          np.min(np.abs(tail)),',\\t16 Bit ok:',\n",
    "          np.min(np.abs(tail))>min16Bit, ',\\t24 Bit ok:',\n",
    "          np.min(np.abs(tail))>min24Bit)"
   ]
  }
 ],
 "metadata": {
  "kernelspec": {
   "display_name": "Python 3",
   "language": "python",
   "name": "python3"
  },
  "language_info": {
   "codemirror_mode": {
    "name": "ipython",
    "version": 3
   },
   "file_extension": ".py",
   "mimetype": "text/x-python",
   "name": "python",
   "nbconvert_exporter": "python",
   "pygments_lexer": "ipython3",
   "version": "3.7.2"
  }
 },
 "nbformat": 4,
 "nbformat_minor": 2
}
