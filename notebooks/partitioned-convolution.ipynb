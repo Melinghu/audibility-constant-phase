{
 "cells": [
  {
   "cell_type": "markdown",
   "metadata": {},
   "source": [
    "# Partitioned Convolution\n",
    "\n",
    "[link](https://dsp-nbsphinx.readthedocs.io/en/nbsphinx-experiment/nonrecursive_filters/segmented_convolution.html)"
   ]
  },
  {
   "cell_type": "markdown",
   "metadata": {},
   "source": [
    "## Overlap Save Method"
   ]
  },
  {
   "cell_type": "code",
   "execution_count": null,
   "metadata": {},
   "outputs": [],
   "source": [
    "import numpy as np\n",
    "import matplotlib.pyplot as plt\n",
    "import importlib\n",
    "import util\n",
    "from scipy.signal import fftconvolve as conv\n",
    "from util import db\n",
    "\n",
    "importlib.reload(util)"
   ]
  },
  {
   "cell_type": "code",
   "execution_count": null,
   "metadata": {},
   "outputs": [],
   "source": [
    "fs = 44100\n",
    "Lx = int(1 * fs)\n",
    "Lh = int(0.5 * fs)\n",
    "Ly = Lx + Lh - 1\n",
    "\n",
    "n_start, n_stop = 24000, 28192\n",
    "N = n_stop - n_start\n",
    "\n",
    "x1 = 0.1 * np.random.randn(Lx)\n",
    "x2 = 0.1 * np.random.randn(Lx)\n",
    "\n",
    "n1_prepend = 2 * N - n_start % N\n",
    "n1_append = 2 * N - (Lx + n1_prepend) % N\n",
    "x1p = util.prepend_append_zeros(x1, n1_prepend, n1_append)\n",
    "\n",
    "n2_append = np.mod(N - Lx % N, N)\n",
    "x2p = util.prepend_append_zeros(x2, 0, n2_append)\n",
    "\n",
    "M1 = int(len(x1p) / N)\n",
    "M2 = int(len(x2p) / N)"
   ]
  },
  {
   "cell_type": "code",
   "execution_count": null,
   "metadata": {},
   "outputs": [],
   "source": [
    "fig, ax = plt.subplots(figsize=(15, 5), ncols=2)\n",
    "nn1 = np.arange(len(x1p)) - n1_prepend\n",
    "nn2 = np.arange(len(x2p))\n",
    "\n",
    "ax[0].plot(nn1, x1p + 1, c='gray')\n",
    "for m in range(M1):\n",
    "    idx = m * N + np.arange(N)\n",
    "    ax[0].plot(-n1_prepend + idx, x1p[idx])\n",
    "    ax[0].plot(-n1_prepend + m * N, 0, 'k.')\n",
    "ax[0].plot(n_start, 0, 'yx')\n",
    "ax[0].plot(n_stop, 0, 'yx')\n",
    "ax[0].grid()\n",
    "\n",
    "ax[1].plot(nn2, x2p + 1, c='gray')\n",
    "for m in range(M2):\n",
    "    idx = m * N + np.arange(N)\n",
    "    ax[1].plot(idx, x2p[idx])\n",
    "ax[1].grid()"
   ]
  },
  {
   "cell_type": "code",
   "execution_count": null,
   "metadata": {},
   "outputs": [],
   "source": [
    "Nfft = 2 * N\n",
    "x1b = np.zeros(2 * N)\n",
    "x2b = np.zeros(N)\n",
    "yp = np.zeros(len(x1p) + len(x2p) - 1)\n",
    "for m in range(M1):\n",
    "    x1b[N:] = x1p[m * N:(m + 1) * N]\n",
    "    for k in range(M2):\n",
    "        x2b = x2p[k * N:(k + 1) * N]\n",
    "        yb = util.cconv(x1b, x2b, nfft=Nfft)[N:]\n",
    "        yp[(m + k) * N: (m + k + 1) * N] += yb\n",
    "    x1b = np.roll(x1b, N)\n",
    "\n",
    "y0 = conv(x1, x2)\n",
    "y = yp[n1_prepend:-n1_append - n2_append]\n",
    "e = y0 - y\n",
    "\n",
    "fig, ax = plt.subplots(figsize=(12, 5), ncols=2)\n",
    "ax[0].plot(y0)\n",
    "ax[0].plot(y - 10)\n",
    "ax[1].plot(db(e));"
   ]
  },
  {
   "cell_type": "markdown",
   "metadata": {},
   "source": [
    "Evaluate the convolution for a selected range"
   ]
  },
  {
   "cell_type": "code",
   "execution_count": null,
   "metadata": {},
   "outputs": [],
   "source": [
    "Nfft = 2 * N\n",
    "x1b = np.zeros(2 * N)\n",
    "x2b = np.zeros(N)\n",
    "yp = np.zeros(len(x1p) + len(x2p) - 1)\n",
    "\n",
    "M0 = int((n1_prepend + n_start) / N)\n",
    "\n",
    "for m in range(M1):\n",
    "    x1b[N:] = x1p[m * N:(m + 1) * N]\n",
    "    for k in range(M2):\n",
    "        if (m + k) == M0:\n",
    "            x2b = x2p[k * N:(k + 1) * N]\n",
    "            yb = util.cconv(x1b, x2b, nfft=Nfft)[N:]\n",
    "            yp[(m + k) * N: (m + k + 1) * N] += yb\n",
    "    x1b = np.roll(x1b, N)\n",
    "\n",
    "y0p = conv(x1p, x2p)\n",
    "e = yp - y0p\n",
    "\n",
    "fig, ax = plt.subplots(figsize=(12, 5), ncols=2)\n",
    "ax[0].plot(y0p)\n",
    "ax[0].plot(yp)\n",
    "ax[1].plot(db(e));"
   ]
  },
  {
   "cell_type": "markdown",
   "metadata": {},
   "source": [
    "### Constant Phase Shift"
   ]
  },
  {
   "cell_type": "code",
   "execution_count": null,
   "metadata": {},
   "outputs": [],
   "source": [
    "fs = 44100\n",
    "L = int(1 * 60 * fs)\n",
    "x = np.random.randn(L)\n",
    "n_start, n_stop = 844100, 888200\n",
    "\n",
    "# Fast convolution\n",
    "phase_angle = -np.pi / 4\n",
    "filter_order = int(2 * L)\n",
    "h0 = util.constant_phase_shifter(filter_order, phase_angle)[1]\n",
    "y0 = util.acausal_filter(x, h0)\n",
    "y0_selection = y0[n_start:n_stop]\n",
    "\n",
    "# Overlap save method\n",
    "y_selection = util.constant_phase_shift_nonrecursive_iir(x, n_start, n_stop, phase_angle)"
   ]
  },
  {
   "cell_type": "code",
   "execution_count": null,
   "metadata": {},
   "outputs": [],
   "source": [
    "fig, ax = plt.subplots(figsize=(12, 5), nrows=2)\n",
    "nn = np.arange(n_start, n_stop)\n",
    "\n",
    "ax[0].plot(y0, c='lightgray')\n",
    "ax[0].plot(nn, y_selection, c='red')\n",
    "ax[1].plot(db(y0_selection - y_selection))"
   ]
  },
  {
   "cell_type": "markdown",
   "metadata": {},
   "source": [
    "## Overlap Add Method"
   ]
  },
  {
   "cell_type": "markdown",
   "metadata": {},
   "source": [
    "### Computational complexity\n",
    "\n",
    "For a fast convolution of two very long signals with the same length $N \\gg 1$,\n",
    "the required FFT length is at least $2N - 1$ and\n",
    "the numerical complexity is in the order of\n",
    "\n",
    "$$\n",
    "\\mathcal{O}\\left(2N (\\log_{2} N + 1)\\right)\n",
    "$$\n",
    "\n",
    "where the FFT length is set to $2N$.\n",
    "\n",
    "If the signals are segmented into $M$ blocks in order to\n",
    "use the overlap-add method, a total of $M^2$ fast convolutions\n",
    "have to be performed. The length of each block\n",
    "is $\\frac{N}{M}$ and the FFT length should be $\\frac{2N}{M}$.\n",
    "Therefore the overall numerical complexity is in the order of\n",
    "\n",
    "$$\n",
    "\\mathcal{O}\\left(M^2 \\cdot \\frac{2N}{M} \\log_{2} \\frac{2N}{M}\\right)\n",
    "= \\mathcal{O}(2MN (\\log_{2}N - \\log_{2}M + 1)).\n",
    "$$\n",
    "\n",
    "For $M=1$ where the whole signal is treated as a single block,\n",
    "this equals to $\\mathcal{O}\\left(2N (\\log_{2} N + 1)\\right)$. "
   ]
  },
  {
   "cell_type": "code",
   "execution_count": null,
   "metadata": {},
   "outputs": [],
   "source": [
    "N = 2**20\n",
    "comp_fftconv = 2 * N * (np.log2(N) + 1)\n",
    "\n",
    "num_blocks = 2**np.arange(0, 20)\n",
    "\n",
    "plt.figure()\n",
    "plt.semilogx(num_blocks, np.log2(comp_fftconv * np.ones_like(num_blocks)), 'r--')\n",
    "for M in num_blocks:\n",
    "    P = N / M\n",
    "    Nfft = 2 * P\n",
    "    plt.semilogx(M, np.log2(M**2 * Nfft * (np.log2(Nfft))), 'kx')\n",
    "plt.xlabel('Number of Blocks')\n",
    "plt.ylabel('Computations $\\log_{2}\\mathcal{O}$')\n",
    "plt.grid();"
   ]
  },
  {
   "cell_type": "code",
   "execution_count": null,
   "metadata": {},
   "outputs": [],
   "source": [
    "def partconv(x1, x2, nblock, nfft=None):\n",
    "    '''Block-based FFT convolution using the overlap-add method'''\n",
    "    if nfft is None:\n",
    "        nfft = 2 * nblock\n",
    "    N1 = len(x1)\n",
    "    N2 = len(x2)\n",
    "    N = N1 + N2 - 1  # output length\n",
    "    M1 = N1 // nblock + 1  # number of blocks\n",
    "    M2 = N2 // nblock + 1\n",
    "    x1 = np.append(x1, np.zeros(N1 % nblock))  # append with zeros\n",
    "    x2 = np.append(x2, np.zeros(N2 % nblock))\n",
    "    y = np.zeros((M1 + M2 - 2) * nblock + nfft)\n",
    "    for i in range(M1):\n",
    "        X1 = np.fft.rfft(x1[i * nblock:(i + 1) * nblock], n=nfft)\n",
    "        for j in range(M2):\n",
    "            X2 = np.fft.rfft(x2[j * nblock:(j + 1) * nblock], n=nfft)\n",
    "            idx = (i + j) * nblock + np.arange(nfft)\n",
    "            y[idx] += np.fft.irfft(X1 * X2)\n",
    "    return y[:N]"
   ]
  },
  {
   "cell_type": "markdown",
   "metadata": {},
   "source": [
    "### Convolution of Two Random Sequences"
   ]
  },
  {
   "cell_type": "code",
   "execution_count": null,
   "metadata": {},
   "outputs": [],
   "source": [
    "fs = 44100\n",
    "N1 = 1 * 60 * fs\n",
    "N2 = 1 * 60 * fs\n",
    "L = N1 + N2 - 1\n",
    "\n",
    "x1 = np.random.randn(N1)\n",
    "x2 = np.random.randn(N2)"
   ]
  },
  {
   "cell_type": "code",
   "execution_count": null,
   "metadata": {},
   "outputs": [],
   "source": [
    "# Fast convolution using FFT\n",
    "y0 = conv(x1, x2)"
   ]
  },
  {
   "cell_type": "markdown",
   "metadata": {},
   "source": [
    "`scipy.signal.fftconvolve` is quite usable\n",
    "for signals up to several minutes long."
   ]
  },
  {
   "cell_type": "code",
   "execution_count": null,
   "metadata": {},
   "outputs": [],
   "source": [
    "# Partitioned convolution using the Overlap-Add method\n",
    "nblock = 2**16  # block length\n",
    "y = partconv(x1, x2, nblock=nblock)"
   ]
  },
  {
   "cell_type": "markdown",
   "metadata": {},
   "source": [
    "This requires more computations."
   ]
  },
  {
   "cell_type": "markdown",
   "metadata": {},
   "source": [
    "### Check Accuracy"
   ]
  },
  {
   "cell_type": "code",
   "execution_count": null,
   "metadata": {},
   "outputs": [],
   "source": [
    "# Mean Square Error in dB\n",
    "print(db(np.mean((y0 - y)**2)**0.5))"
   ]
  }
 ],
 "metadata": {
  "kernelspec": {
   "display_name": "Python [default]",
   "language": "python",
   "name": "python3"
  },
  "language_info": {
   "codemirror_mode": {
    "name": "ipython",
    "version": 3
   },
   "file_extension": ".py",
   "mimetype": "text/x-python",
   "name": "python",
   "nbconvert_exporter": "python",
   "pygments_lexer": "ipython3",
   "version": "3.5.6"
  },
  "varInspector": {
   "cols": {
    "lenName": 16,
    "lenType": 16,
    "lenVar": 40
   },
   "kernels_config": {
    "python": {
     "delete_cmd_postfix": "",
     "delete_cmd_prefix": "del ",
     "library": "var_list.py",
     "varRefreshCmd": "print(var_dic_list())"
    },
    "r": {
     "delete_cmd_postfix": ") ",
     "delete_cmd_prefix": "rm(",
     "library": "var_list.r",
     "varRefreshCmd": "cat(var_dic_list()) "
    }
   },
   "types_to_exclude": [
    "module",
    "function",
    "builtin_function_or_method",
    "instance",
    "_Feature"
   ],
   "window_display": false
  }
 },
 "nbformat": 4,
 "nbformat_minor": 2
}
